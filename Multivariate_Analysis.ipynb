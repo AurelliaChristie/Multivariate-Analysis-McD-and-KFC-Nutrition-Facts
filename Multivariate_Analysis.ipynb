{
  "nbformat": 4,
  "nbformat_minor": 0,
  "metadata": {
    "colab": {
      "name": "Multivariate Analysis.ipynb",
      "provenance": [],
      "collapsed_sections": [
        "7-SAvOm8hnNq",
        "tJ4krUCw2R6o",
        "ScQbuPr2vfha",
        "azEeg2mPOfsO",
        "ULFsNv9KOvME",
        "s4ibQw0_QpPC",
        "EDVfNSh0QpPF",
        "jfiqc7A265XP",
        "Aq97cHHY9iNf",
        "OqnMxn68-sDo"
      ]
    },
    "kernelspec": {
      "display_name": "Python 3",
      "name": "python3"
    },
    "language_info": {
      "name": "python"
    }
  },
  "cells": [
    {
      "cell_type": "markdown",
      "metadata": {
        "id": "rXaK4pmgoJvO"
      },
      "source": [
        "#**Comparing Nutrition Facts of Menu in The Two Biggest Fast Food Restaurants in Indonesia : McDonalds and KFC**\n"
      ]
    },
    {
      "cell_type": "markdown",
      "metadata": {
        "id": "_Ad2vmGznJd9"
      },
      "source": [
        "Data Source\n",
        "\n",
        "> Nutrition Facts McDonalds Data\n",
        "\n",
        "https://www.fatsecret.co.id/kalori-gizi/search?q=mcdonald%27s\n",
        "\n",
        "\n",
        "\n",
        "> Nutrition Facts KFC Data\n",
        "\n",
        "https://www.fatsecret.co.id/kalori-gizi/search?q=kfc\n"
      ]
    },
    {
      "cell_type": "markdown",
      "metadata": {
        "id": "Rlv61NDxntVF"
      },
      "source": [
        "**About the Dataset**\n",
        "\n",
        "This dataset is a result of scraping from a source (you can check the scraping code in the `scraping.py` file) that gives nutrition facts information of two well-known fast food restaurants in Indonesia, which are: McDonalds and KFC. There are information about total energy, calory, carbohidrate, protein, and fat of one portion of each menu at those restaurants. \n",
        "\n",
        "This dataset will be used to compare nutrition facts of McDonalds' menu and KFC's menu. The result of this analysis can be useful both for the consumers and restaurants' owners. For consumers, they can choose which menu from which restaurant are best suited with their preference of nutrition contents. On the other hand, for restaurants' owners, they can understand more about the nutrition contents of their menu and their competitor's menu and later on they can adjust their nutrition content in order to win the market competition.\n",
        "\n"
      ]
    },
    {
      "cell_type": "markdown",
      "metadata": {
        "id": "OkbwnDV3ny6G"
      },
      "source": [
        "**Research Purposes**\n",
        "\n",
        "1. Cluster the menu of the two restaurants based on their nutrition facts.\n",
        "\n",
        "2. Use dimensional reduction in order to see whether the projected new dimensions can create clear boundaries between the clusters.\n",
        "\n",
        "3. Compare the mean of calory and fat contents of menu in KFC and McDonalds, and see whether there is a significant difference.\n",
        "\n",
        "4. Further analyze the difference between the mean of calory and fat contents of menu in KFC and McDonalds."
      ]
    },
    {
      "cell_type": "markdown",
      "metadata": {
        "id": "1v-rt3HCn6e7"
      },
      "source": [
        "**Statistic Methodologies**\n",
        "\n",
        "1. **Hierarchical Agglomerative Method** to cluster the menu based on the nutrition facts. This method is chosen because the researcher doesn't have preference of the number of clusters.\n",
        "2. **Principal Component Analysis** to do the dimensional reduction since all the variables are numerical variables.\n",
        "3. **T Square's Hotelling** to do the multivariate inference whether there is a significance difference between the calory and fat contents of menu in KFC and McDonalds.\n",
        "4. **Profile Analysis** to further analyze the difference between calory and fat contents of menu in KFC and McDonalds."
      ]
    },
    {
      "cell_type": "markdown",
      "metadata": {
        "id": "LppXHkrepQad"
      },
      "source": [
        "**Variables Explanation**\n",
        "\n",
        "There are a lot of nutrition content data from the site, but to do this research we will only use the complete data (doesn't containing null values), which are:\n",
        "* `Energi` : energy got from eating one portion of each menu\n",
        "* `Kalori` : calories content of one portion of each menu\n",
        "* `Lemak` : fat content of one portion of each menu\n",
        "* `Protein` : protein content of one portion of each menu\n",
        "* `Karbohidrat` : carbohidrate content of one portion of each menu"
      ]
    },
    {
      "cell_type": "code",
      "metadata": {
        "id": "qJis95GpxUFD",
        "colab": {
          "base_uri": "https://localhost:8080/"
        },
        "outputId": "69319282-6af6-462a-add2-95232e4a2b54"
      },
      "source": [
        "# Convert to HTML\n",
        "# %%shell\n",
        "# jupyter nbconvert --to html /content/Multivariate_Analysis.ipynb"
      ],
      "execution_count": 3,
      "outputs": [
        {
          "output_type": "stream",
          "name": "stdout",
          "text": [
            "[NbConvertApp] Converting notebook /content/Multivariate_Analysis.ipynb to html\n",
            "[NbConvertApp] Writing 859596 bytes to /content/Multivariate_Analysis.html\n"
          ]
        },
        {
          "output_type": "execute_result",
          "data": {
            "text/plain": [
              ""
            ]
          },
          "metadata": {},
          "execution_count": 3
        }
      ]
    },
    {
      "cell_type": "markdown",
      "metadata": {
        "id": "W7JeByRKtDOs"
      },
      "source": [
        "## Import Packages"
      ]
    },
    {
      "cell_type": "code",
      "metadata": {
        "colab": {
          "base_uri": "https://localhost:8080/"
        },
        "id": "4gD5ocJLFX11",
        "outputId": "a37cf349-05a2-44f5-e861-76ef0b84e0f2"
      },
      "source": [
        "!pip install pingouin"
      ],
      "execution_count": null,
      "outputs": [
        {
          "output_type": "stream",
          "name": "stdout",
          "text": [
            "Collecting pingouin\n",
            "  Downloading pingouin-0.4.0.tar.gz (206 kB)\n",
            "\u001b[?25l\r\u001b[K     |█▋                              | 10 kB 23.8 MB/s eta 0:00:01\r\u001b[K     |███▏                            | 20 kB 29.8 MB/s eta 0:00:01\r\u001b[K     |████▊                           | 30 kB 22.0 MB/s eta 0:00:01\r\u001b[K     |██████▍                         | 40 kB 17.8 MB/s eta 0:00:01\r\u001b[K     |████████                        | 51 kB 8.1 MB/s eta 0:00:01\r\u001b[K     |█████████▌                      | 61 kB 7.0 MB/s eta 0:00:01\r\u001b[K     |███████████                     | 71 kB 7.8 MB/s eta 0:00:01\r\u001b[K     |████████████▊                   | 81 kB 8.8 MB/s eta 0:00:01\r\u001b[K     |██████████████▎                 | 92 kB 9.2 MB/s eta 0:00:01\r\u001b[K     |███████████████▉                | 102 kB 7.5 MB/s eta 0:00:01\r\u001b[K     |█████████████████▍              | 112 kB 7.5 MB/s eta 0:00:01\r\u001b[K     |███████████████████             | 122 kB 7.5 MB/s eta 0:00:01\r\u001b[K     |████████████████████▋           | 133 kB 7.5 MB/s eta 0:00:01\r\u001b[K     |██████████████████████▏         | 143 kB 7.5 MB/s eta 0:00:01\r\u001b[K     |███████████████████████▊        | 153 kB 7.5 MB/s eta 0:00:01\r\u001b[K     |█████████████████████████▍      | 163 kB 7.5 MB/s eta 0:00:01\r\u001b[K     |███████████████████████████     | 174 kB 7.5 MB/s eta 0:00:01\r\u001b[K     |████████████████████████████▌   | 184 kB 7.5 MB/s eta 0:00:01\r\u001b[K     |██████████████████████████████  | 194 kB 7.5 MB/s eta 0:00:01\r\u001b[K     |███████████████████████████████▊| 204 kB 7.5 MB/s eta 0:00:01\r\u001b[K     |████████████████████████████████| 206 kB 7.5 MB/s \n",
            "\u001b[?25hRequirement already satisfied: numpy>=1.19 in /usr/local/lib/python3.7/dist-packages (from pingouin) (1.19.5)\n",
            "Collecting scipy>=1.7\n",
            "  Downloading scipy-1.7.1-cp37-cp37m-manylinux_2_5_x86_64.manylinux1_x86_64.whl (28.5 MB)\n",
            "\u001b[K     |████████████████████████████████| 28.5 MB 51 kB/s \n",
            "\u001b[?25hRequirement already satisfied: pandas>=1.0 in /usr/local/lib/python3.7/dist-packages (from pingouin) (1.1.5)\n",
            "Requirement already satisfied: matplotlib>=3.0.2 in /usr/local/lib/python3.7/dist-packages (from pingouin) (3.2.2)\n",
            "Requirement already satisfied: seaborn>=0.9.0 in /usr/local/lib/python3.7/dist-packages (from pingouin) (0.11.1)\n",
            "Collecting statsmodels>=0.12.0\n",
            "  Downloading statsmodels-0.12.2-cp37-cp37m-manylinux1_x86_64.whl (9.5 MB)\n",
            "\u001b[K     |████████████████████████████████| 9.5 MB 63.1 MB/s \n",
            "\u001b[?25hRequirement already satisfied: scikit-learn in /usr/local/lib/python3.7/dist-packages (from pingouin) (0.22.2.post1)\n",
            "Collecting pandas_flavor>=0.2.0\n",
            "  Downloading pandas_flavor-0.2.0-py2.py3-none-any.whl (6.6 kB)\n",
            "Collecting outdated\n",
            "  Downloading outdated-0.2.1-py3-none-any.whl (7.5 kB)\n",
            "Requirement already satisfied: tabulate in /usr/local/lib/python3.7/dist-packages (from pingouin) (0.8.9)\n",
            "Requirement already satisfied: python-dateutil>=2.1 in /usr/local/lib/python3.7/dist-packages (from matplotlib>=3.0.2->pingouin) (2.8.2)\n",
            "Requirement already satisfied: cycler>=0.10 in /usr/local/lib/python3.7/dist-packages (from matplotlib>=3.0.2->pingouin) (0.10.0)\n",
            "Requirement already satisfied: pyparsing!=2.0.4,!=2.1.2,!=2.1.6,>=2.0.1 in /usr/local/lib/python3.7/dist-packages (from matplotlib>=3.0.2->pingouin) (2.4.7)\n",
            "Requirement already satisfied: kiwisolver>=1.0.1 in /usr/local/lib/python3.7/dist-packages (from matplotlib>=3.0.2->pingouin) (1.3.1)\n",
            "Requirement already satisfied: six in /usr/local/lib/python3.7/dist-packages (from cycler>=0.10->matplotlib>=3.0.2->pingouin) (1.15.0)\n",
            "Requirement already satisfied: pytz>=2017.2 in /usr/local/lib/python3.7/dist-packages (from pandas>=1.0->pingouin) (2018.9)\n",
            "Requirement already satisfied: xarray in /usr/local/lib/python3.7/dist-packages (from pandas_flavor>=0.2.0->pingouin) (0.18.2)\n",
            "Requirement already satisfied: patsy>=0.5 in /usr/local/lib/python3.7/dist-packages (from statsmodels>=0.12.0->pingouin) (0.5.1)\n",
            "Collecting littleutils\n",
            "  Downloading littleutils-0.2.2.tar.gz (6.6 kB)\n",
            "Requirement already satisfied: requests in /usr/local/lib/python3.7/dist-packages (from outdated->pingouin) (2.23.0)\n",
            "Requirement already satisfied: chardet<4,>=3.0.2 in /usr/local/lib/python3.7/dist-packages (from requests->outdated->pingouin) (3.0.4)\n",
            "Requirement already satisfied: urllib3!=1.25.0,!=1.25.1,<1.26,>=1.21.1 in /usr/local/lib/python3.7/dist-packages (from requests->outdated->pingouin) (1.24.3)\n",
            "Requirement already satisfied: idna<3,>=2.5 in /usr/local/lib/python3.7/dist-packages (from requests->outdated->pingouin) (2.10)\n",
            "Requirement already satisfied: certifi>=2017.4.17 in /usr/local/lib/python3.7/dist-packages (from requests->outdated->pingouin) (2021.5.30)\n",
            "Requirement already satisfied: joblib>=0.11 in /usr/local/lib/python3.7/dist-packages (from scikit-learn->pingouin) (1.0.1)\n",
            "Requirement already satisfied: setuptools>=40.4 in /usr/local/lib/python3.7/dist-packages (from xarray->pandas_flavor>=0.2.0->pingouin) (57.4.0)\n",
            "Building wheels for collected packages: pingouin, littleutils\n",
            "  Building wheel for pingouin (setup.py) ... \u001b[?25l\u001b[?25hdone\n",
            "  Created wheel for pingouin: filename=pingouin-0.4.0-py3-none-any.whl size=206904 sha256=3444c2f18584c3a7d35e354e84562226b1d5f585b11f982b34ba805c68f72170\n",
            "  Stored in directory: /root/.cache/pip/wheels/8a/9d/c4/11677c2c4d5c0df9d1d4aa61528d868bb96e13b898e3f51c95\n",
            "  Building wheel for littleutils (setup.py) ... \u001b[?25l\u001b[?25hdone\n",
            "  Created wheel for littleutils: filename=littleutils-0.2.2-py3-none-any.whl size=7048 sha256=cbe4a3f8f15e9254d973212861c81fa83750b50d866d2c586a3e86e35087bb6d\n",
            "  Stored in directory: /root/.cache/pip/wheels/d6/64/cd/32819b511a488e4993f2fab909a95330289c3f4e0f6ef4676d\n",
            "Successfully built pingouin littleutils\n",
            "Installing collected packages: scipy, littleutils, statsmodels, pandas-flavor, outdated, pingouin\n",
            "  Attempting uninstall: scipy\n",
            "    Found existing installation: scipy 1.4.1\n",
            "    Uninstalling scipy-1.4.1:\n",
            "      Successfully uninstalled scipy-1.4.1\n",
            "  Attempting uninstall: statsmodels\n",
            "    Found existing installation: statsmodels 0.10.2\n",
            "    Uninstalling statsmodels-0.10.2:\n",
            "      Successfully uninstalled statsmodels-0.10.2\n",
            "\u001b[31mERROR: pip's dependency resolver does not currently take into account all the packages that are installed. This behaviour is the source of the following dependency conflicts.\n",
            "albumentations 0.1.12 requires imgaug<0.2.7,>=0.2.5, but you have imgaug 0.2.9 which is incompatible.\u001b[0m\n",
            "Successfully installed littleutils-0.2.2 outdated-0.2.1 pandas-flavor-0.2.0 pingouin-0.4.0 scipy-1.7.1 statsmodels-0.12.2\n"
          ]
        }
      ]
    },
    {
      "cell_type": "code",
      "metadata": {
        "id": "xPdS2DKtmUX9"
      },
      "source": [
        "# To tidy up data\n",
        "import pandas as pd\n",
        "import numpy as np\n",
        "import seaborn as sns\n",
        "\n",
        "# To normalize data\n",
        "from sklearn.preprocessing import normalize\n",
        "\n",
        "# To do multivariate inference\n",
        "from scipy.stats import f,t,levene\n",
        "import pingouin as pg\n",
        "from sklearn import preprocessing\n",
        "\n",
        "# To cluster data\n",
        "import scipy.cluster.hierarchy as shc\n",
        "from sklearn.cluster import AgglomerativeClustering as ac\n",
        "\n",
        "# To visualize data\n",
        "import matplotlib.pyplot as plt\n",
        "from mpl_toolkits.mplot3d import Axes3D\n",
        "\n",
        "# To do the PCA\n",
        "from sklearn.decomposition import PCA\n",
        "\n",
        "# To use R\n",
        "%load_ext rpy2.ipython"
      ],
      "execution_count": null,
      "outputs": []
    },
    {
      "cell_type": "markdown",
      "metadata": {
        "id": "d2Bjh9rKn6Vz"
      },
      "source": [
        "## Data Preprocessing"
      ]
    },
    {
      "cell_type": "code",
      "metadata": {
        "colab": {
          "base_uri": "https://localhost:8080/"
        },
        "id": "8092oKclr_YE",
        "outputId": "e9c0472e-5691-438e-b9bc-53d5817430ec"
      },
      "source": [
        "# Connect to Google Drive\n",
        "from google.colab import drive\n",
        "drive.mount('/content/drive')"
      ],
      "execution_count": null,
      "outputs": [
        {
          "output_type": "stream",
          "name": "stdout",
          "text": [
            "Mounted at /content/drive\n"
          ]
        }
      ]
    },
    {
      "cell_type": "code",
      "metadata": {
        "colab": {
          "base_uri": "https://localhost:8080/",
          "height": 204
        },
        "id": "FEfLg6z9osEZ",
        "outputId": "f7561b42-b1f3-4d61-fde5-4b610cccf7cd"
      },
      "source": [
        "# Import McDonalds data\n",
        "df_mcd = pd.read_csv('/content/drive/MyDrive/Colab Notebooks/Multivariate Analysis/McDonalds.csv')\n",
        "\n",
        "# Glimpse of the data\n",
        "df_mcd.head()"
      ],
      "execution_count": null,
      "outputs": [
        {
          "output_type": "execute_result",
          "data": {
            "text/html": [
              "<div>\n",
              "<style scoped>\n",
              "    .dataframe tbody tr th:only-of-type {\n",
              "        vertical-align: middle;\n",
              "    }\n",
              "\n",
              "    .dataframe tbody tr th {\n",
              "        vertical-align: top;\n",
              "    }\n",
              "\n",
              "    .dataframe thead th {\n",
              "        text-align: right;\n",
              "    }\n",
              "</style>\n",
              "<table border=\"1\" class=\"dataframe\">\n",
              "  <thead>\n",
              "    <tr style=\"text-align: right;\">\n",
              "      <th></th>\n",
              "      <th>Unnamed: 0</th>\n",
              "      <th>Menu</th>\n",
              "      <th>Energi</th>\n",
              "      <th>Kalori</th>\n",
              "      <th>Lemak</th>\n",
              "      <th>Protein</th>\n",
              "      <th>Karbohidrat</th>\n",
              "      <th>Gula</th>\n",
              "      <th>Lemak Jenuh</th>\n",
              "      <th>Lemak Trans</th>\n",
              "      <th>Kolesterol</th>\n",
              "      <th>Serat</th>\n",
              "      <th>Sodium</th>\n",
              "      <th>Kalium</th>\n",
              "      <th>Lemak tak Jenuh Ganda</th>\n",
              "      <th>Lemak tak Jenuh Tunggal</th>\n",
              "    </tr>\n",
              "  </thead>\n",
              "  <tbody>\n",
              "    <tr>\n",
              "      <th>0</th>\n",
              "      <td>0</td>\n",
              "      <td>Ayam Goreng Mcd Spicy</td>\n",
              "      <td>1130</td>\n",
              "      <td>270</td>\n",
              "      <td>16.2</td>\n",
              "      <td>17.9</td>\n",
              "      <td>13.1</td>\n",
              "      <td>0.0</td>\n",
              "      <td>NaN</td>\n",
              "      <td>NaN</td>\n",
              "      <td>NaN</td>\n",
              "      <td>NaN</td>\n",
              "      <td>NaN</td>\n",
              "      <td>NaN</td>\n",
              "      <td>NaN</td>\n",
              "      <td>NaN</td>\n",
              "    </tr>\n",
              "    <tr>\n",
              "      <th>1</th>\n",
              "      <td>1</td>\n",
              "      <td>Beef Burger</td>\n",
              "      <td>1079</td>\n",
              "      <td>258</td>\n",
              "      <td>7.8</td>\n",
              "      <td>12.8</td>\n",
              "      <td>32.1</td>\n",
              "      <td>NaN</td>\n",
              "      <td>NaN</td>\n",
              "      <td>NaN</td>\n",
              "      <td>NaN</td>\n",
              "      <td>NaN</td>\n",
              "      <td>NaN</td>\n",
              "      <td>NaN</td>\n",
              "      <td>NaN</td>\n",
              "      <td>NaN</td>\n",
              "    </tr>\n",
              "    <tr>\n",
              "      <th>2</th>\n",
              "      <td>2</td>\n",
              "      <td>Iced Lemon Tea</td>\n",
              "      <td>665</td>\n",
              "      <td>159</td>\n",
              "      <td>0.0</td>\n",
              "      <td>0.0</td>\n",
              "      <td>39.6</td>\n",
              "      <td>38.4</td>\n",
              "      <td>NaN</td>\n",
              "      <td>NaN</td>\n",
              "      <td>NaN</td>\n",
              "      <td>NaN</td>\n",
              "      <td>NaN</td>\n",
              "      <td>NaN</td>\n",
              "      <td>NaN</td>\n",
              "      <td>NaN</td>\n",
              "    </tr>\n",
              "    <tr>\n",
              "      <th>3</th>\n",
              "      <td>3</td>\n",
              "      <td>Fried Chicken (Thigh)</td>\n",
              "      <td>1381</td>\n",
              "      <td>330</td>\n",
              "      <td>17.0</td>\n",
              "      <td>28.0</td>\n",
              "      <td>16.0</td>\n",
              "      <td>0.0</td>\n",
              "      <td>35.0</td>\n",
              "      <td>0.0</td>\n",
              "      <td>85.0</td>\n",
              "      <td>0.0</td>\n",
              "      <td>740.0</td>\n",
              "      <td>0.0</td>\n",
              "      <td>NaN</td>\n",
              "      <td>NaN</td>\n",
              "    </tr>\n",
              "    <tr>\n",
              "      <th>4</th>\n",
              "      <td>4</td>\n",
              "      <td>McFlurry - Oreo</td>\n",
              "      <td>2176</td>\n",
              "      <td>520</td>\n",
              "      <td>17.0</td>\n",
              "      <td>12.0</td>\n",
              "      <td>80.0</td>\n",
              "      <td>64.0</td>\n",
              "      <td>9.0</td>\n",
              "      <td>0.5</td>\n",
              "      <td>45.0</td>\n",
              "      <td>1.0</td>\n",
              "      <td>260.0</td>\n",
              "      <td>NaN</td>\n",
              "      <td>NaN</td>\n",
              "      <td>NaN</td>\n",
              "    </tr>\n",
              "  </tbody>\n",
              "</table>\n",
              "</div>"
            ],
            "text/plain": [
              "   Unnamed: 0  ... Lemak tak Jenuh Tunggal\n",
              "0           0  ...                     NaN\n",
              "1           1  ...                     NaN\n",
              "2           2  ...                     NaN\n",
              "3           3  ...                     NaN\n",
              "4           4  ...                     NaN\n",
              "\n",
              "[5 rows x 16 columns]"
            ]
          },
          "metadata": {},
          "execution_count": 6
        }
      ]
    },
    {
      "cell_type": "code",
      "metadata": {
        "colab": {
          "base_uri": "https://localhost:8080/",
          "height": 204
        },
        "id": "41cWfEMHpBrL",
        "outputId": "d1054dce-cadd-41e1-bb82-dd8dd135c437"
      },
      "source": [
        "# Import KFC data\n",
        "df_kfc = pd.read_csv('/content/drive/MyDrive/Colab Notebooks/Multivariate Analysis/KFC.csv')\n",
        "\n",
        "# Glimpse of the data\n",
        "df_kfc.head()"
      ],
      "execution_count": null,
      "outputs": [
        {
          "output_type": "execute_result",
          "data": {
            "text/html": [
              "<div>\n",
              "<style scoped>\n",
              "    .dataframe tbody tr th:only-of-type {\n",
              "        vertical-align: middle;\n",
              "    }\n",
              "\n",
              "    .dataframe tbody tr th {\n",
              "        vertical-align: top;\n",
              "    }\n",
              "\n",
              "    .dataframe thead th {\n",
              "        text-align: right;\n",
              "    }\n",
              "</style>\n",
              "<table border=\"1\" class=\"dataframe\">\n",
              "  <thead>\n",
              "    <tr style=\"text-align: right;\">\n",
              "      <th></th>\n",
              "      <th>Unnamed: 0</th>\n",
              "      <th>Menu</th>\n",
              "      <th>Energi</th>\n",
              "      <th>Kalori</th>\n",
              "      <th>Lemak</th>\n",
              "      <th>Lemak Jenuh</th>\n",
              "      <th>Lemak Trans</th>\n",
              "      <th>Kolesterol</th>\n",
              "      <th>Protein</th>\n",
              "      <th>Karbohidrat</th>\n",
              "      <th>Serat</th>\n",
              "      <th>Gula</th>\n",
              "      <th>Sodium</th>\n",
              "      <th>Kalium</th>\n",
              "      <th>Lemak tak Jenuh Ganda</th>\n",
              "      <th>Lemak tak Jenuh Tunggal</th>\n",
              "    </tr>\n",
              "  </thead>\n",
              "  <tbody>\n",
              "    <tr>\n",
              "      <th>0</th>\n",
              "      <td>0</td>\n",
              "      <td>Dada Ayam</td>\n",
              "      <td>2176</td>\n",
              "      <td>520</td>\n",
              "      <td>34.0</td>\n",
              "      <td>5.0</td>\n",
              "      <td>0.0</td>\n",
              "      <td>145.0</td>\n",
              "      <td>36.00</td>\n",
              "      <td>0.00</td>\n",
              "      <td>0.0</td>\n",
              "      <td>0.00</td>\n",
              "      <td>1220.0</td>\n",
              "      <td>0.0</td>\n",
              "      <td>NaN</td>\n",
              "      <td>NaN</td>\n",
              "    </tr>\n",
              "    <tr>\n",
              "      <th>1</th>\n",
              "      <td>1</td>\n",
              "      <td>Rice</td>\n",
              "      <td>1122</td>\n",
              "      <td>268</td>\n",
              "      <td>0.3</td>\n",
              "      <td>NaN</td>\n",
              "      <td>NaN</td>\n",
              "      <td>NaN</td>\n",
              "      <td>6.80</td>\n",
              "      <td>59.57</td>\n",
              "      <td>NaN</td>\n",
              "      <td>1.27</td>\n",
              "      <td>27.0</td>\n",
              "      <td>NaN</td>\n",
              "      <td>NaN</td>\n",
              "      <td>NaN</td>\n",
              "    </tr>\n",
              "    <tr>\n",
              "      <th>2</th>\n",
              "      <td>2</td>\n",
              "      <td>Paha Bawah Crispy</td>\n",
              "      <td>711</td>\n",
              "      <td>170</td>\n",
              "      <td>12.0</td>\n",
              "      <td>NaN</td>\n",
              "      <td>NaN</td>\n",
              "      <td>NaN</td>\n",
              "      <td>10.00</td>\n",
              "      <td>5.00</td>\n",
              "      <td>NaN</td>\n",
              "      <td>NaN</td>\n",
              "      <td>NaN</td>\n",
              "      <td>NaN</td>\n",
              "      <td>NaN</td>\n",
              "      <td>NaN</td>\n",
              "    </tr>\n",
              "    <tr>\n",
              "      <th>3</th>\n",
              "      <td>3</td>\n",
              "      <td>Perkedel</td>\n",
              "      <td>439</td>\n",
              "      <td>105</td>\n",
              "      <td>5.0</td>\n",
              "      <td>NaN</td>\n",
              "      <td>NaN</td>\n",
              "      <td>NaN</td>\n",
              "      <td>5.39</td>\n",
              "      <td>9.60</td>\n",
              "      <td>NaN</td>\n",
              "      <td>NaN</td>\n",
              "      <td>NaN</td>\n",
              "      <td>NaN</td>\n",
              "      <td>NaN</td>\n",
              "      <td>NaN</td>\n",
              "    </tr>\n",
              "    <tr>\n",
              "      <th>4</th>\n",
              "      <td>4</td>\n",
              "      <td>Dada Ayam Original</td>\n",
              "      <td>1632</td>\n",
              "      <td>390</td>\n",
              "      <td>21.0</td>\n",
              "      <td>NaN</td>\n",
              "      <td>NaN</td>\n",
              "      <td>NaN</td>\n",
              "      <td>39.00</td>\n",
              "      <td>11.00</td>\n",
              "      <td>2.0</td>\n",
              "      <td>NaN</td>\n",
              "      <td>NaN</td>\n",
              "      <td>NaN</td>\n",
              "      <td>NaN</td>\n",
              "      <td>NaN</td>\n",
              "    </tr>\n",
              "  </tbody>\n",
              "</table>\n",
              "</div>"
            ],
            "text/plain": [
              "   Unnamed: 0  ... Lemak tak Jenuh Tunggal\n",
              "0           0  ...                     NaN\n",
              "1           1  ...                     NaN\n",
              "2           2  ...                     NaN\n",
              "3           3  ...                     NaN\n",
              "4           4  ...                     NaN\n",
              "\n",
              "[5 rows x 16 columns]"
            ]
          },
          "metadata": {},
          "execution_count": 7
        }
      ]
    },
    {
      "cell_type": "code",
      "metadata": {
        "colab": {
          "base_uri": "https://localhost:8080/"
        },
        "id": "vnBNxSTmtQUH",
        "outputId": "e2f36cb5-ae02-4419-aeb7-0974b1d40ffa"
      },
      "source": [
        "# Check data type and missing values of McDonalds\n",
        "df_mcd.info()"
      ],
      "execution_count": null,
      "outputs": [
        {
          "output_type": "stream",
          "name": "stdout",
          "text": [
            "<class 'pandas.core.frame.DataFrame'>\n",
            "RangeIndex: 50 entries, 0 to 49\n",
            "Data columns (total 16 columns):\n",
            " #   Column                   Non-Null Count  Dtype  \n",
            "---  ------                   --------------  -----  \n",
            " 0   Unnamed: 0               50 non-null     int64  \n",
            " 1   Menu                     50 non-null     object \n",
            " 2   Energi                   50 non-null     int64  \n",
            " 3   Kalori                   50 non-null     int64  \n",
            " 4   Lemak                    50 non-null     float64\n",
            " 5   Protein                  50 non-null     float64\n",
            " 6   Karbohidrat              50 non-null     float64\n",
            " 7   Gula                     29 non-null     float64\n",
            " 8   Lemak Jenuh              31 non-null     float64\n",
            " 9   Lemak Trans              17 non-null     float64\n",
            " 10  Kolesterol               34 non-null     float64\n",
            " 11  Serat                    33 non-null     float64\n",
            " 12  Sodium                   29 non-null     float64\n",
            " 13  Kalium                   7 non-null      float64\n",
            " 14  Lemak tak Jenuh Ganda    2 non-null      float64\n",
            " 15  Lemak tak Jenuh Tunggal  2 non-null      float64\n",
            "dtypes: float64(12), int64(3), object(1)\n",
            "memory usage: 6.4+ KB\n"
          ]
        }
      ]
    },
    {
      "cell_type": "code",
      "metadata": {
        "colab": {
          "base_uri": "https://localhost:8080/"
        },
        "id": "Vwb2nCNavR6c",
        "outputId": "ee9cb40b-8817-4ac6-8fd8-de310d2f3f27"
      },
      "source": [
        "# Check data type and missing values KFC\n",
        "df_kfc.info()"
      ],
      "execution_count": null,
      "outputs": [
        {
          "output_type": "stream",
          "name": "stdout",
          "text": [
            "<class 'pandas.core.frame.DataFrame'>\n",
            "RangeIndex: 39 entries, 0 to 38\n",
            "Data columns (total 16 columns):\n",
            " #   Column                   Non-Null Count  Dtype  \n",
            "---  ------                   --------------  -----  \n",
            " 0   Unnamed: 0               39 non-null     int64  \n",
            " 1   Menu                     39 non-null     object \n",
            " 2   Energi                   39 non-null     int64  \n",
            " 3   Kalori                   39 non-null     int64  \n",
            " 4   Lemak                    39 non-null     float64\n",
            " 5   Lemak Jenuh              27 non-null     float64\n",
            " 6   Lemak Trans              8 non-null      float64\n",
            " 7   Kolesterol               23 non-null     float64\n",
            " 8   Protein                  39 non-null     float64\n",
            " 9   Karbohidrat              39 non-null     float64\n",
            " 10  Serat                    15 non-null     float64\n",
            " 11  Gula                     27 non-null     float64\n",
            " 12  Sodium                   30 non-null     float64\n",
            " 13  Kalium                   6 non-null      float64\n",
            " 14  Lemak tak Jenuh Ganda    3 non-null      float64\n",
            " 15  Lemak tak Jenuh Tunggal  3 non-null      float64\n",
            "dtypes: float64(12), int64(3), object(1)\n",
            "memory usage: 5.0+ KB\n"
          ]
        }
      ]
    },
    {
      "cell_type": "markdown",
      "metadata": {
        "id": "5kSuRwTlf_qD"
      },
      "source": [
        "There are a lot of missing values from the variables except `Menu`, `Energi`, `Kalori`, `Lemak`, `Protein`, `Karbohidrat`. It's impossible to impute the missing values using backward or forward imputation since the nutrition contents of each menu are different. So we will only use these variables in this research."
      ]
    },
    {
      "cell_type": "code",
      "metadata": {
        "id": "-b5RdkR2v7j0"
      },
      "source": [
        "# Take the variables\n",
        "df_mcd = df_mcd[['Menu','Energi', 'Kalori', 'Lemak', 'Protein', 'Karbohidrat']]\n",
        "df_kfc = df_kfc[['Menu','Energi', 'Kalori', 'Lemak', 'Protein', 'Karbohidrat']]"
      ],
      "execution_count": null,
      "outputs": []
    },
    {
      "cell_type": "code",
      "metadata": {
        "id": "-LOEo2rgwlB-"
      },
      "source": [
        "# Add restaurant name \n",
        "df_mcd['Menu'] = [x + \" Mcd\" for x in df_mcd['Menu']]\n",
        "df_kfc['Menu'] = [x + \" KFC\" for x in df_kfc['Menu']]"
      ],
      "execution_count": null,
      "outputs": []
    },
    {
      "cell_type": "code",
      "metadata": {
        "colab": {
          "base_uri": "https://localhost:8080/",
          "height": 204
        },
        "id": "TXKrx1mHhJaB",
        "outputId": "107a8498-479f-4375-8095-28531769ee9b"
      },
      "source": [
        "# Combine the two data frames\n",
        "df_combined = pd.concat([df_mcd, df_kfc], axis = 0).reset_index(drop=True)\n",
        "\n",
        "# Glimpse of the data\n",
        "df_combined.head()"
      ],
      "execution_count": null,
      "outputs": [
        {
          "output_type": "execute_result",
          "data": {
            "text/html": [
              "<div>\n",
              "<style scoped>\n",
              "    .dataframe tbody tr th:only-of-type {\n",
              "        vertical-align: middle;\n",
              "    }\n",
              "\n",
              "    .dataframe tbody tr th {\n",
              "        vertical-align: top;\n",
              "    }\n",
              "\n",
              "    .dataframe thead th {\n",
              "        text-align: right;\n",
              "    }\n",
              "</style>\n",
              "<table border=\"1\" class=\"dataframe\">\n",
              "  <thead>\n",
              "    <tr style=\"text-align: right;\">\n",
              "      <th></th>\n",
              "      <th>Menu</th>\n",
              "      <th>Energi</th>\n",
              "      <th>Kalori</th>\n",
              "      <th>Lemak</th>\n",
              "      <th>Protein</th>\n",
              "      <th>Karbohidrat</th>\n",
              "    </tr>\n",
              "  </thead>\n",
              "  <tbody>\n",
              "    <tr>\n",
              "      <th>0</th>\n",
              "      <td>Ayam Goreng Mcd Spicy Mcd</td>\n",
              "      <td>1130</td>\n",
              "      <td>270</td>\n",
              "      <td>16.2</td>\n",
              "      <td>17.9</td>\n",
              "      <td>13.1</td>\n",
              "    </tr>\n",
              "    <tr>\n",
              "      <th>1</th>\n",
              "      <td>Beef Burger Mcd</td>\n",
              "      <td>1079</td>\n",
              "      <td>258</td>\n",
              "      <td>7.8</td>\n",
              "      <td>12.8</td>\n",
              "      <td>32.1</td>\n",
              "    </tr>\n",
              "    <tr>\n",
              "      <th>2</th>\n",
              "      <td>Iced Lemon Tea Mcd</td>\n",
              "      <td>665</td>\n",
              "      <td>159</td>\n",
              "      <td>0.0</td>\n",
              "      <td>0.0</td>\n",
              "      <td>39.6</td>\n",
              "    </tr>\n",
              "    <tr>\n",
              "      <th>3</th>\n",
              "      <td>Fried Chicken (Thigh) Mcd</td>\n",
              "      <td>1381</td>\n",
              "      <td>330</td>\n",
              "      <td>17.0</td>\n",
              "      <td>28.0</td>\n",
              "      <td>16.0</td>\n",
              "    </tr>\n",
              "    <tr>\n",
              "      <th>4</th>\n",
              "      <td>McFlurry - Oreo Mcd</td>\n",
              "      <td>2176</td>\n",
              "      <td>520</td>\n",
              "      <td>17.0</td>\n",
              "      <td>12.0</td>\n",
              "      <td>80.0</td>\n",
              "    </tr>\n",
              "  </tbody>\n",
              "</table>\n",
              "</div>"
            ],
            "text/plain": [
              "                        Menu  Energi  Kalori  Lemak  Protein  Karbohidrat\n",
              "0  Ayam Goreng Mcd Spicy Mcd    1130     270   16.2     17.9         13.1\n",
              "1            Beef Burger Mcd    1079     258    7.8     12.8         32.1\n",
              "2         Iced Lemon Tea Mcd     665     159    0.0      0.0         39.6\n",
              "3  Fried Chicken (Thigh) Mcd    1381     330   17.0     28.0         16.0\n",
              "4        McFlurry - Oreo Mcd    2176     520   17.0     12.0         80.0"
            ]
          },
          "metadata": {},
          "execution_count": 12
        }
      ]
    },
    {
      "cell_type": "markdown",
      "metadata": {
        "id": "7-SAvOm8hnNq"
      },
      "source": [
        "## Exploratory Data Analysis"
      ]
    },
    {
      "cell_type": "code",
      "metadata": {
        "colab": {
          "base_uri": "https://localhost:8080/"
        },
        "id": "rb5BvHQahsaF",
        "outputId": "2c4e144d-9e77-4a85-a112-a397b2934fb1"
      },
      "source": [
        "# Energy Distribution\n",
        "plt.figure(figsize=(6, 4))\n",
        "ax = sns.boxplot(x = \"Energi\", data = df_combined)\n",
        "ax.set(xlabel=\"Energy (kJ)\")\n",
        "plt.title(\"Energy Distribution\");"
      ],
      "execution_count": null,
      "outputs": [
        {
          "output_type": "display_data",
          "data": {
            "image/png": "[encoded data removed]",
            "text/plain": [
              "<Figure size 432x288 with 1 Axes>"
            ]
          },
          "metadata": {
            "needs_background": "light"
          }
        }
      ]
    },
    {
      "cell_type": "code",
      "metadata": {
        "colab": {
          "base_uri": "https://localhost:8080/"
        },
        "id": "9F4FQf7gjndE",
        "outputId": "65ec5458-498b-42e0-c059-e6ad006d26de"
      },
      "source": [
        "# Calories Distribution\n",
        "plt.figure(figsize=(6, 4))\n",
        "ax = sns.boxplot(x = \"Kalori\", data = df_combined)\n",
        "ax.set(xlabel=\"Calories (kkal)\")\n",
        "plt.title(\"Calories Distribution\");"
      ],
      "execution_count": null,
      "outputs": [
        {
          "output_type": "display_data",
          "data": {
            "image/png": "[encoded data removed]",
            "text/plain": [
              "<Figure size 432x288 with 1 Axes>"
            ]
          },
          "metadata": {
            "needs_background": "light"
          }
        }
      ]
    },
    {
      "cell_type": "code",
      "metadata": {
        "colab": {
          "base_uri": "https://localhost:8080/"
        },
        "id": "4Ri1JIhhkms6",
        "outputId": "427552a6-453c-4bf7-bbcc-f9c30cc5e5e3"
      },
      "source": [
        "# Fat Distribution\n",
        "plt.figure(figsize=(6, 4))\n",
        "ax = sns.boxplot(x = \"Lemak\", data = df_combined)\n",
        "ax.set(xlabel=\"Fat (g)\")\n",
        "plt.title(\"Fat Distribution\");"
      ],
      "execution_count": null,
      "outputs": [
        {
          "output_type": "display_data",
          "data": {
            "image/png": "[encoded data removed]",
            "text/plain": [
              "<Figure size 432x288 with 1 Axes>"
            ]
          },
          "metadata": {
            "needs_background": "light"
          }
        }
      ]
    },
    {
      "cell_type": "code",
      "metadata": {
        "colab": {
          "base_uri": "https://localhost:8080/"
        },
        "id": "1074EGIpkuXC",
        "outputId": "2560b1f8-affa-4011-caaa-3b96cd050613"
      },
      "source": [
        "# Protein Distribution\n",
        "plt.figure(figsize=(6, 4))\n",
        "ax = sns.boxplot(x = \"Protein\", data = df_combined)\n",
        "ax.set(xlabel=\"Protein (g)\")\n",
        "plt.title(\"Protein Distribution\");"
      ],
      "execution_count": null,
      "outputs": [
        {
          "output_type": "display_data",
          "data": {
            "image/png": "[encoded data removed]",
            "text/plain": [
              "<Figure size 432x288 with 1 Axes>"
            ]
          },
          "metadata": {
            "needs_background": "light"
          }
        }
      ]
    },
    {
      "cell_type": "code",
      "metadata": {
        "colab": {
          "base_uri": "https://localhost:8080/"
        },
        "id": "tK2k5uTgk1Sk",
        "outputId": "6e6812c6-8fba-4894-dbee-9abec4f837bc"
      },
      "source": [
        "# Carbohidrate Distribution\n",
        "plt.figure(figsize=(6, 4))\n",
        "ax = sns.boxplot(x = \"Karbohidrat\", data = df_combined)\n",
        "ax.set(xlabel=\"Carbohidrate (g)\")\n",
        "plt.title(\"Carbohidrate Distribution\");"
      ],
      "execution_count": null,
      "outputs": [
        {
          "output_type": "display_data",
          "data": {
            "image/png": "[encoded data removed]",
            "text/plain": [
              "<Figure size 432x288 with 1 Axes>"
            ]
          },
          "metadata": {
            "needs_background": "light"
          }
        }
      ]
    },
    {
      "cell_type": "markdown",
      "metadata": {
        "id": "CAFOYYELm9Zg"
      },
      "source": [
        "All of the nutrition content distributions are tend to be positively skewed. Some of the menu contain high nutrition contents while most of the menu contain relatively low nutrition contents. There are some outliers in the data but we do not remove them since we have a relatively small number of data and we just want to use all of the data. "
      ]
    },
    {
      "cell_type": "code",
      "metadata": {
        "colab": {
          "base_uri": "https://localhost:8080/"
        },
        "id": "JT5Yl3BllRpj",
        "outputId": "58fa9109-4aad-4523-f41e-970859e09dce"
      },
      "source": [
        "# Correlation Plot\n",
        "fig, ax = plt.subplots(figsize=(12, 12))\n",
        "sns.heatmap(df_combined.iloc[:,1:].corr(), annot=True, fmt='.2%')\n",
        "plt.show()"
      ],
      "execution_count": null,
      "outputs": [
        {
          "output_type": "display_data",
          "data": {
            "image/png": "[encoded data removed]",
            "text/plain": [
              "<Figure size 864x864 with 2 Axes>"
            ]
          },
          "metadata": {
            "needs_background": "light"
          }
        }
      ]
    },
    {
      "cell_type": "markdown",
      "metadata": {
        "id": "c-S6JZ7sl0Ge"
      },
      "source": [
        "Since energy and calories have 100% correlation, we wil drop energy since calories is more considered for a meal diet program or other programs than energy."
      ]
    },
    {
      "cell_type": "code",
      "metadata": {
        "id": "u-yXSlpbmWfV"
      },
      "source": [
        "# Drop energy\n",
        "df_combined.drop('Energi', axis = 1, inplace = True)\n",
        "df_kfc.drop('Energi', axis = 1, inplace = True)\n",
        "df_mcd.drop('Energi', axis = 1, inplace = True)"
      ],
      "execution_count": null,
      "outputs": []
    },
    {
      "cell_type": "markdown",
      "metadata": {
        "id": "tJ4krUCw2R6o"
      },
      "source": [
        "## Clustering"
      ]
    },
    {
      "cell_type": "markdown",
      "metadata": {
        "id": "ScQbuPr2vfha"
      },
      "source": [
        "### Clustering Data"
      ]
    },
    {
      "cell_type": "code",
      "metadata": {
        "id": "vDOYDAf1x6eo"
      },
      "source": [
        "# Copy combined data\n",
        "df_cluster = df_combined.copy()"
      ],
      "execution_count": null,
      "outputs": []
    },
    {
      "cell_type": "code",
      "metadata": {
        "colab": {
          "base_uri": "https://localhost:8080/"
        },
        "id": "iy_A5jKhpoua",
        "outputId": "f2f97344-1e84-420d-fc3d-dd4fecacec42"
      },
      "source": [
        "# Scaling data\n",
        "menu = df_cluster['Menu']\n",
        "df_scaled = normalize(df_cluster.iloc[:,1:])\n",
        "df_scaled = pd.DataFrame(df_scaled, columns=df_cluster.columns[1:])\n",
        "df_scaled.head()"
      ],
      "execution_count": null,
      "outputs": [
        {
          "output_type": "execute_result",
          "data": {
            "text/html": [
              "<div>\n",
              "<style scoped>\n",
              "    .dataframe tbody tr th:only-of-type {\n",
              "        vertical-align: middle;\n",
              "    }\n",
              "\n",
              "    .dataframe tbody tr th {\n",
              "        vertical-align: top;\n",
              "    }\n",
              "\n",
              "    .dataframe thead th {\n",
              "        text-align: right;\n",
              "    }\n",
              "</style>\n",
              "<table border=\"1\" class=\"dataframe\">\n",
              "  <thead>\n",
              "    <tr style=\"text-align: right;\">\n",
              "      <th></th>\n",
              "      <th>Kalori</th>\n",
              "      <th>Lemak</th>\n",
              "      <th>Protein</th>\n",
              "      <th>Karbohidrat</th>\n",
              "    </tr>\n",
              "  </thead>\n",
              "  <tbody>\n",
              "    <tr>\n",
              "      <th>0</th>\n",
              "      <td>0.994865</td>\n",
              "      <td>0.059692</td>\n",
              "      <td>0.065956</td>\n",
              "      <td>0.048269</td>\n",
              "    </tr>\n",
              "    <tr>\n",
              "      <th>1</th>\n",
              "      <td>0.990704</td>\n",
              "      <td>0.029952</td>\n",
              "      <td>0.049151</td>\n",
              "      <td>0.123262</td>\n",
              "    </tr>\n",
              "    <tr>\n",
              "      <th>2</th>\n",
              "      <td>0.970358</td>\n",
              "      <td>0.000000</td>\n",
              "      <td>0.000000</td>\n",
              "      <td>0.241674</td>\n",
              "    </tr>\n",
              "    <tr>\n",
              "      <th>3</th>\n",
              "      <td>0.993953</td>\n",
              "      <td>0.051204</td>\n",
              "      <td>0.084335</td>\n",
              "      <td>0.048192</td>\n",
              "    </tr>\n",
              "    <tr>\n",
              "      <th>4</th>\n",
              "      <td>0.987600</td>\n",
              "      <td>0.032287</td>\n",
              "      <td>0.022791</td>\n",
              "      <td>0.151938</td>\n",
              "    </tr>\n",
              "  </tbody>\n",
              "</table>\n",
              "</div>"
            ],
            "text/plain": [
              "     Kalori     Lemak   Protein  Karbohidrat\n",
              "0  0.994865  0.059692  0.065956     0.048269\n",
              "1  0.990704  0.029952  0.049151     0.123262\n",
              "2  0.970358  0.000000  0.000000     0.241674\n",
              "3  0.993953  0.051204  0.084335     0.048192\n",
              "4  0.987600  0.032287  0.022791     0.151938"
            ]
          },
          "metadata": {},
          "execution_count": 21
        }
      ]
    },
    {
      "cell_type": "markdown",
      "metadata": {
        "id": "azEeg2mPOfsO"
      },
      "source": [
        "### First Trial"
      ]
    },
    {
      "cell_type": "code",
      "metadata": {
        "colab": {
          "base_uri": "https://localhost:8080/"
        },
        "id": "3m0Hd1DP2TOw",
        "outputId": "76cf8545-e6e0-4a47-95d6-701fa8e27329"
      },
      "source": [
        "# Determine number of clusters\n",
        "plt.figure(figsize = (10,7))\n",
        "plt.title('First Trial Dendrogram')\n",
        "plt.axhline(y = 0.28, linestyle = '--', color = 'red', alpha = 0.8)\n",
        "dend = shc.dendrogram(shc.linkage(df_scaled, method= 'ward'))"
      ],
      "execution_count": null,
      "outputs": [
        {
          "output_type": "display_data",
          "data": {
            "image/png": "[encoded data removed]",
            "text/plain": [
              "<Figure size 720x504 with 1 Axes>"
            ]
          },
          "metadata": {
            "needs_background": "light"
          }
        }
      ]
    },
    {
      "cell_type": "markdown",
      "metadata": {
        "id": "ERYxZmJF4oM3"
      },
      "source": [
        "From the dendrogram, we decide to try using **3 clusters**."
      ]
    },
    {
      "cell_type": "code",
      "metadata": {
        "colab": {
          "base_uri": "https://localhost:8080/"
        },
        "id": "1UIop_674nFc",
        "outputId": "179d9403-11c2-46bd-ca40-0f685205b804"
      },
      "source": [
        "# Cluster the data\n",
        "cluster = ac(n_clusters = 3, affinity = 'euclidean', linkage = 'ward')\n",
        "cluster.fit_predict(df_scaled)"
      ],
      "execution_count": null,
      "outputs": [
        {
          "output_type": "execute_result",
          "data": {
            "text/plain": [
              "array([0, 0, 1, 2, 1, 0, 0, 1, 0, 1, 1, 0, 2, 1, 0, 0, 2, 0, 0, 0, 0, 1,\n",
              "       0, 0, 0, 1, 0, 0, 0, 1, 2, 0, 0, 0, 0, 0, 0, 0, 0, 0, 0, 0, 0, 1,\n",
              "       0, 0, 0, 0, 1, 0, 2, 1, 2, 0, 2, 2, 2, 2, 2, 2, 1, 0, 0, 0, 2, 2,\n",
              "       0, 1, 0, 2, 0, 1, 2, 0, 0, 1, 2, 0, 1, 0, 1, 0, 0, 2, 0, 0, 0, 0,\n",
              "       0])"
            ]
          },
          "metadata": {},
          "execution_count": 23
        }
      ]
    },
    {
      "cell_type": "code",
      "metadata": {
        "colab": {
          "base_uri": "https://localhost:8080/"
        },
        "id": "MKMxnS2v5AlS",
        "outputId": "fc1eaaaf-7ff0-49dd-94a7-f5a3dd9c58c1"
      },
      "source": [
        "# Combine the cluster into the table\n",
        "df_cluster1 = df_cluster.copy()\n",
        "df_cluster1['Cluster'] = cluster.labels_ + 1\n",
        "\n",
        "# Example of Cluster (Cluster 1)\n",
        "df_cluster1[df_cluster1['Cluster']==1]"
      ],
      "execution_count": null,
      "outputs": [
        {
          "output_type": "execute_result",
          "data": {
            "text/html": [
              "<div>\n",
              "<style scoped>\n",
              "    .dataframe tbody tr th:only-of-type {\n",
              "        vertical-align: middle;\n",
              "    }\n",
              "\n",
              "    .dataframe tbody tr th {\n",
              "        vertical-align: top;\n",
              "    }\n",
              "\n",
              "    .dataframe thead th {\n",
              "        text-align: right;\n",
              "    }\n",
              "</style>\n",
              "<table border=\"1\" class=\"dataframe\">\n",
              "  <thead>\n",
              "    <tr style=\"text-align: right;\">\n",
              "      <th></th>\n",
              "      <th>Menu</th>\n",
              "      <th>Kalori</th>\n",
              "      <th>Lemak</th>\n",
              "      <th>Protein</th>\n",
              "      <th>Karbohidrat</th>\n",
              "      <th>Cluster</th>\n",
              "    </tr>\n",
              "  </thead>\n",
              "  <tbody>\n",
              "    <tr>\n",
              "      <th>0</th>\n",
              "      <td>Ayam Goreng Mcd Spicy Mcd</td>\n",
              "      <td>270</td>\n",
              "      <td>16.20</td>\n",
              "      <td>17.90</td>\n",
              "      <td>13.10</td>\n",
              "      <td>1</td>\n",
              "    </tr>\n",
              "    <tr>\n",
              "      <th>1</th>\n",
              "      <td>Beef Burger Mcd</td>\n",
              "      <td>258</td>\n",
              "      <td>7.80</td>\n",
              "      <td>12.80</td>\n",
              "      <td>32.10</td>\n",
              "      <td>1</td>\n",
              "    </tr>\n",
              "    <tr>\n",
              "      <th>5</th>\n",
              "      <td>French Fries (Small) Mcd</td>\n",
              "      <td>230</td>\n",
              "      <td>11.00</td>\n",
              "      <td>3.00</td>\n",
              "      <td>29.00</td>\n",
              "      <td>1</td>\n",
              "    </tr>\n",
              "    <tr>\n",
              "      <th>6</th>\n",
              "      <td>French Fries (Medium) Mcd</td>\n",
              "      <td>373</td>\n",
              "      <td>17.60</td>\n",
              "      <td>4.10</td>\n",
              "      <td>48.70</td>\n",
              "      <td>1</td>\n",
              "    </tr>\n",
              "    <tr>\n",
              "      <th>8</th>\n",
              "      <td>Cheeseburger Mcd</td>\n",
              "      <td>300</td>\n",
              "      <td>12.00</td>\n",
              "      <td>15.00</td>\n",
              "      <td>33.00</td>\n",
              "      <td>1</td>\n",
              "    </tr>\n",
              "    <tr>\n",
              "      <th>11</th>\n",
              "      <td>Double Choco Pie Mcd</td>\n",
              "      <td>241</td>\n",
              "      <td>13.00</td>\n",
              "      <td>3.00</td>\n",
              "      <td>26.00</td>\n",
              "      <td>1</td>\n",
              "    </tr>\n",
              "    <tr>\n",
              "      <th>14</th>\n",
              "      <td>McNuggets (6) Mcd</td>\n",
              "      <td>270</td>\n",
              "      <td>16.00</td>\n",
              "      <td>15.00</td>\n",
              "      <td>16.00</td>\n",
              "      <td>1</td>\n",
              "    </tr>\n",
              "    <tr>\n",
              "      <th>15</th>\n",
              "      <td>McSpicy Chicken Mcd</td>\n",
              "      <td>585</td>\n",
              "      <td>26.00</td>\n",
              "      <td>23.00</td>\n",
              "      <td>65.00</td>\n",
              "      <td>1</td>\n",
              "    </tr>\n",
              "    <tr>\n",
              "      <th>17</th>\n",
              "      <td>McSpicy Chicken Burger Mcd</td>\n",
              "      <td>522</td>\n",
              "      <td>25.00</td>\n",
              "      <td>24.00</td>\n",
              "      <td>50.00</td>\n",
              "      <td>1</td>\n",
              "    </tr>\n",
              "    <tr>\n",
              "      <th>18</th>\n",
              "      <td>Spicy Chicken Bites Mcd</td>\n",
              "      <td>270</td>\n",
              "      <td>17.00</td>\n",
              "      <td>14.00</td>\n",
              "      <td>18.00</td>\n",
              "      <td>1</td>\n",
              "    </tr>\n",
              "    <tr>\n",
              "      <th>19</th>\n",
              "      <td>Hash Brown Mcd</td>\n",
              "      <td>150</td>\n",
              "      <td>9.00</td>\n",
              "      <td>1.00</td>\n",
              "      <td>15.00</td>\n",
              "      <td>1</td>\n",
              "    </tr>\n",
              "    <tr>\n",
              "      <th>20</th>\n",
              "      <td>Coffee Float Mcd</td>\n",
              "      <td>270</td>\n",
              "      <td>2.00</td>\n",
              "      <td>0.00</td>\n",
              "      <td>3.00</td>\n",
              "      <td>1</td>\n",
              "    </tr>\n",
              "    <tr>\n",
              "      <th>22</th>\n",
              "      <td>French Fries (Large) Mcd</td>\n",
              "      <td>510</td>\n",
              "      <td>24.00</td>\n",
              "      <td>7.00</td>\n",
              "      <td>66.00</td>\n",
              "      <td>1</td>\n",
              "    </tr>\n",
              "    <tr>\n",
              "      <th>23</th>\n",
              "      <td>Potato Wedges Mcd</td>\n",
              "      <td>350</td>\n",
              "      <td>16.00</td>\n",
              "      <td>4.70</td>\n",
              "      <td>44.00</td>\n",
              "      <td>1</td>\n",
              "    </tr>\n",
              "    <tr>\n",
              "      <th>24</th>\n",
              "      <td>Apple Pie Mcd</td>\n",
              "      <td>250</td>\n",
              "      <td>13.00</td>\n",
              "      <td>2.00</td>\n",
              "      <td>32.00</td>\n",
              "      <td>1</td>\n",
              "    </tr>\n",
              "    <tr>\n",
              "      <th>26</th>\n",
              "      <td>Big Mac Mcd</td>\n",
              "      <td>550</td>\n",
              "      <td>29.00</td>\n",
              "      <td>25.00</td>\n",
              "      <td>46.00</td>\n",
              "      <td>1</td>\n",
              "    </tr>\n",
              "    <tr>\n",
              "      <th>27</th>\n",
              "      <td>McChicken Mcd</td>\n",
              "      <td>360</td>\n",
              "      <td>16.00</td>\n",
              "      <td>14.00</td>\n",
              "      <td>30.00</td>\n",
              "      <td>1</td>\n",
              "    </tr>\n",
              "    <tr>\n",
              "      <th>28</th>\n",
              "      <td>Double Cheeseburger Mcd</td>\n",
              "      <td>440</td>\n",
              "      <td>23.00</td>\n",
              "      <td>25.00</td>\n",
              "      <td>34.00</td>\n",
              "      <td>1</td>\n",
              "    </tr>\n",
              "    <tr>\n",
              "      <th>31</th>\n",
              "      <td>McNuggets (9) Mcd</td>\n",
              "      <td>396</td>\n",
              "      <td>24.30</td>\n",
              "      <td>21.60</td>\n",
              "      <td>23.40</td>\n",
              "      <td>1</td>\n",
              "    </tr>\n",
              "    <tr>\n",
              "      <th>32</th>\n",
              "      <td>Fish Fillet Burger Mcd</td>\n",
              "      <td>390</td>\n",
              "      <td>19.00</td>\n",
              "      <td>17.00</td>\n",
              "      <td>38.00</td>\n",
              "      <td>1</td>\n",
              "    </tr>\n",
              "    <tr>\n",
              "      <th>33</th>\n",
              "      <td>Chicken Snack Wrap Mcd</td>\n",
              "      <td>330</td>\n",
              "      <td>16.00</td>\n",
              "      <td>14.00</td>\n",
              "      <td>33.00</td>\n",
              "      <td>1</td>\n",
              "    </tr>\n",
              "    <tr>\n",
              "      <th>34</th>\n",
              "      <td>Crispy Chicken Breast Mcd</td>\n",
              "      <td>250</td>\n",
              "      <td>14.00</td>\n",
              "      <td>16.00</td>\n",
              "      <td>15.00</td>\n",
              "      <td>1</td>\n",
              "    </tr>\n",
              "    <tr>\n",
              "      <th>35</th>\n",
              "      <td>Hamburger Mcd</td>\n",
              "      <td>240</td>\n",
              "      <td>8.00</td>\n",
              "      <td>12.00</td>\n",
              "      <td>31.00</td>\n",
              "      <td>1</td>\n",
              "    </tr>\n",
              "    <tr>\n",
              "      <th>36</th>\n",
              "      <td>Sausage Wrap Mcd</td>\n",
              "      <td>300</td>\n",
              "      <td>16.00</td>\n",
              "      <td>13.00</td>\n",
              "      <td>24.00</td>\n",
              "      <td>1</td>\n",
              "    </tr>\n",
              "    <tr>\n",
              "      <th>37</th>\n",
              "      <td>Sausage McMuffin Mcd</td>\n",
              "      <td>400</td>\n",
              "      <td>25.00</td>\n",
              "      <td>14.00</td>\n",
              "      <td>29.00</td>\n",
              "      <td>1</td>\n",
              "    </tr>\n",
              "    <tr>\n",
              "      <th>38</th>\n",
              "      <td>Egg McMuffin Mcd</td>\n",
              "      <td>300</td>\n",
              "      <td>12.00</td>\n",
              "      <td>18.00</td>\n",
              "      <td>30.00</td>\n",
              "      <td>1</td>\n",
              "    </tr>\n",
              "    <tr>\n",
              "      <th>39</th>\n",
              "      <td>Chicken Muffin With Egg Mcd</td>\n",
              "      <td>356</td>\n",
              "      <td>16.00</td>\n",
              "      <td>23.00</td>\n",
              "      <td>30.00</td>\n",
              "      <td>1</td>\n",
              "    </tr>\n",
              "    <tr>\n",
              "      <th>40</th>\n",
              "      <td>Saussage McMuffin with Egg Mcd</td>\n",
              "      <td>339</td>\n",
              "      <td>15.80</td>\n",
              "      <td>21.30</td>\n",
              "      <td>26.70</td>\n",
              "      <td>1</td>\n",
              "    </tr>\n",
              "    <tr>\n",
              "      <th>41</th>\n",
              "      <td>Triple Cheeseburger Mcd</td>\n",
              "      <td>520</td>\n",
              "      <td>28.00</td>\n",
              "      <td>32.00</td>\n",
              "      <td>35.00</td>\n",
              "      <td>1</td>\n",
              "    </tr>\n",
              "    <tr>\n",
              "      <th>42</th>\n",
              "      <td>Chicken Mcmuffin Mcd</td>\n",
              "      <td>390</td>\n",
              "      <td>20.00</td>\n",
              "      <td>17.00</td>\n",
              "      <td>35.00</td>\n",
              "      <td>1</td>\n",
              "    </tr>\n",
              "    <tr>\n",
              "      <th>44</th>\n",
              "      <td>Big Breakfast Mcd</td>\n",
              "      <td>525</td>\n",
              "      <td>25.00</td>\n",
              "      <td>27.00</td>\n",
              "      <td>49.00</td>\n",
              "      <td>1</td>\n",
              "    </tr>\n",
              "    <tr>\n",
              "      <th>45</th>\n",
              "      <td>Fillet-O-Fish Mcd</td>\n",
              "      <td>339</td>\n",
              "      <td>14.00</td>\n",
              "      <td>13.80</td>\n",
              "      <td>39.90</td>\n",
              "      <td>1</td>\n",
              "    </tr>\n",
              "    <tr>\n",
              "      <th>46</th>\n",
              "      <td>Chicken Muffin Mcd</td>\n",
              "      <td>401</td>\n",
              "      <td>20.00</td>\n",
              "      <td>17.00</td>\n",
              "      <td>38.00</td>\n",
              "      <td>1</td>\n",
              "    </tr>\n",
              "    <tr>\n",
              "      <th>47</th>\n",
              "      <td>Fish Bites Mcd</td>\n",
              "      <td>250</td>\n",
              "      <td>13.00</td>\n",
              "      <td>11.00</td>\n",
              "      <td>21.00</td>\n",
              "      <td>1</td>\n",
              "    </tr>\n",
              "    <tr>\n",
              "      <th>49</th>\n",
              "      <td>McDouble Mcd</td>\n",
              "      <td>380</td>\n",
              "      <td>18.00</td>\n",
              "      <td>23.00</td>\n",
              "      <td>34.00</td>\n",
              "      <td>1</td>\n",
              "    </tr>\n",
              "    <tr>\n",
              "      <th>53</th>\n",
              "      <td>Perkedel KFC</td>\n",
              "      <td>105</td>\n",
              "      <td>5.00</td>\n",
              "      <td>5.39</td>\n",
              "      <td>9.60</td>\n",
              "      <td>1</td>\n",
              "    </tr>\n",
              "    <tr>\n",
              "      <th>61</th>\n",
              "      <td>Burger Ayam (Colonel's Burger) KFC</td>\n",
              "      <td>381</td>\n",
              "      <td>19.27</td>\n",
              "      <td>12.52</td>\n",
              "      <td>39.28</td>\n",
              "      <td>1</td>\n",
              "    </tr>\n",
              "    <tr>\n",
              "      <th>62</th>\n",
              "      <td>French Fries (Regular) KFC</td>\n",
              "      <td>257</td>\n",
              "      <td>12.48</td>\n",
              "      <td>2.91</td>\n",
              "      <td>33.22</td>\n",
              "      <td>1</td>\n",
              "    </tr>\n",
              "    <tr>\n",
              "      <th>63</th>\n",
              "      <td>Cream Soup KFC</td>\n",
              "      <td>110</td>\n",
              "      <td>5.00</td>\n",
              "      <td>3.00</td>\n",
              "      <td>14.00</td>\n",
              "      <td>1</td>\n",
              "    </tr>\n",
              "    <tr>\n",
              "      <th>66</th>\n",
              "      <td>Crispy Strip KFC</td>\n",
              "      <td>123</td>\n",
              "      <td>8.13</td>\n",
              "      <td>6.82</td>\n",
              "      <td>5.73</td>\n",
              "      <td>1</td>\n",
              "    </tr>\n",
              "    <tr>\n",
              "      <th>68</th>\n",
              "      <td>Deluxe Burger KFC</td>\n",
              "      <td>340</td>\n",
              "      <td>17.00</td>\n",
              "      <td>9.00</td>\n",
              "      <td>37.00</td>\n",
              "      <td>1</td>\n",
              "    </tr>\n",
              "    <tr>\n",
              "      <th>70</th>\n",
              "      <td>Fish Fillet KFC</td>\n",
              "      <td>330</td>\n",
              "      <td>14.44</td>\n",
              "      <td>12.92</td>\n",
              "      <td>37.22</td>\n",
              "      <td>1</td>\n",
              "    </tr>\n",
              "    <tr>\n",
              "      <th>73</th>\n",
              "      <td>Twisty KFC</td>\n",
              "      <td>240</td>\n",
              "      <td>16.00</td>\n",
              "      <td>7.00</td>\n",
              "      <td>18.00</td>\n",
              "      <td>1</td>\n",
              "    </tr>\n",
              "    <tr>\n",
              "      <th>74</th>\n",
              "      <td>Zuper Krunch Burger KFC</td>\n",
              "      <td>480</td>\n",
              "      <td>18.00</td>\n",
              "      <td>31.00</td>\n",
              "      <td>49.00</td>\n",
              "      <td>1</td>\n",
              "    </tr>\n",
              "    <tr>\n",
              "      <th>77</th>\n",
              "      <td>French Blackpepper Bento KFC</td>\n",
              "      <td>470</td>\n",
              "      <td>12.00</td>\n",
              "      <td>26.00</td>\n",
              "      <td>64.00</td>\n",
              "      <td>1</td>\n",
              "    </tr>\n",
              "    <tr>\n",
              "      <th>79</th>\n",
              "      <td>Chocolate Molten Cake KFC</td>\n",
              "      <td>205</td>\n",
              "      <td>9.00</td>\n",
              "      <td>2.00</td>\n",
              "      <td>28.00</td>\n",
              "      <td>1</td>\n",
              "    </tr>\n",
              "    <tr>\n",
              "      <th>81</th>\n",
              "      <td>Krushers KFC</td>\n",
              "      <td>375</td>\n",
              "      <td>14.00</td>\n",
              "      <td>6.00</td>\n",
              "      <td>54.00</td>\n",
              "      <td>1</td>\n",
              "    </tr>\n",
              "    <tr>\n",
              "      <th>82</th>\n",
              "      <td>Cheezy Wedges KFC</td>\n",
              "      <td>310</td>\n",
              "      <td>17.00</td>\n",
              "      <td>5.00</td>\n",
              "      <td>35.00</td>\n",
              "      <td>1</td>\n",
              "    </tr>\n",
              "    <tr>\n",
              "      <th>84</th>\n",
              "      <td>Double Down Zinger Fillet Burger KFC</td>\n",
              "      <td>530</td>\n",
              "      <td>26.00</td>\n",
              "      <td>31.00</td>\n",
              "      <td>44.00</td>\n",
              "      <td>1</td>\n",
              "    </tr>\n",
              "    <tr>\n",
              "      <th>85</th>\n",
              "      <td>Riser KFC</td>\n",
              "      <td>380</td>\n",
              "      <td>18.00</td>\n",
              "      <td>22.00</td>\n",
              "      <td>31.00</td>\n",
              "      <td>1</td>\n",
              "    </tr>\n",
              "    <tr>\n",
              "      <th>86</th>\n",
              "      <td>Chicken Popcorn KFC</td>\n",
              "      <td>351</td>\n",
              "      <td>22.00</td>\n",
              "      <td>18.00</td>\n",
              "      <td>21.00</td>\n",
              "      <td>1</td>\n",
              "    </tr>\n",
              "    <tr>\n",
              "      <th>87</th>\n",
              "      <td>Sambal Matah KFC</td>\n",
              "      <td>140</td>\n",
              "      <td>12.00</td>\n",
              "      <td>1.00</td>\n",
              "      <td>5.00</td>\n",
              "      <td>1</td>\n",
              "    </tr>\n",
              "    <tr>\n",
              "      <th>88</th>\n",
              "      <td>Sambal Korek KFC</td>\n",
              "      <td>90</td>\n",
              "      <td>4.50</td>\n",
              "      <td>1.00</td>\n",
              "      <td>13.00</td>\n",
              "      <td>1</td>\n",
              "    </tr>\n",
              "  </tbody>\n",
              "</table>\n",
              "</div>"
            ],
            "text/plain": [
              "                                    Menu  Kalori  ...  Karbohidrat  Cluster\n",
              "0              Ayam Goreng Mcd Spicy Mcd     270  ...        13.10        1\n",
              "1                        Beef Burger Mcd     258  ...        32.10        1\n",
              "5               French Fries (Small) Mcd     230  ...        29.00        1\n",
              "6              French Fries (Medium) Mcd     373  ...        48.70        1\n",
              "8                       Cheeseburger Mcd     300  ...        33.00        1\n",
              "11                  Double Choco Pie Mcd     241  ...        26.00        1\n",
              "14                     McNuggets (6) Mcd     270  ...        16.00        1\n",
              "15                   McSpicy Chicken Mcd     585  ...        65.00        1\n",
              "17            McSpicy Chicken Burger Mcd     522  ...        50.00        1\n",
              "18               Spicy Chicken Bites Mcd     270  ...        18.00        1\n",
              "19                        Hash Brown Mcd     150  ...        15.00        1\n",
              "20                      Coffee Float Mcd     270  ...         3.00        1\n",
              "22              French Fries (Large) Mcd     510  ...        66.00        1\n",
              "23                     Potato Wedges Mcd     350  ...        44.00        1\n",
              "24                         Apple Pie Mcd     250  ...        32.00        1\n",
              "26                           Big Mac Mcd     550  ...        46.00        1\n",
              "27                         McChicken Mcd     360  ...        30.00        1\n",
              "28               Double Cheeseburger Mcd     440  ...        34.00        1\n",
              "31                     McNuggets (9) Mcd     396  ...        23.40        1\n",
              "32                Fish Fillet Burger Mcd     390  ...        38.00        1\n",
              "33                Chicken Snack Wrap Mcd     330  ...        33.00        1\n",
              "34             Crispy Chicken Breast Mcd     250  ...        15.00        1\n",
              "35                         Hamburger Mcd     240  ...        31.00        1\n",
              "36                      Sausage Wrap Mcd     300  ...        24.00        1\n",
              "37                  Sausage McMuffin Mcd     400  ...        29.00        1\n",
              "38                      Egg McMuffin Mcd     300  ...        30.00        1\n",
              "39           Chicken Muffin With Egg Mcd     356  ...        30.00        1\n",
              "40        Saussage McMuffin with Egg Mcd     339  ...        26.70        1\n",
              "41               Triple Cheeseburger Mcd     520  ...        35.00        1\n",
              "42                  Chicken Mcmuffin Mcd     390  ...        35.00        1\n",
              "44                     Big Breakfast Mcd     525  ...        49.00        1\n",
              "45                     Fillet-O-Fish Mcd     339  ...        39.90        1\n",
              "46                    Chicken Muffin Mcd     401  ...        38.00        1\n",
              "47                        Fish Bites Mcd     250  ...        21.00        1\n",
              "49                          McDouble Mcd     380  ...        34.00        1\n",
              "53                          Perkedel KFC     105  ...         9.60        1\n",
              "61    Burger Ayam (Colonel's Burger) KFC     381  ...        39.28        1\n",
              "62            French Fries (Regular) KFC     257  ...        33.22        1\n",
              "63                        Cream Soup KFC     110  ...        14.00        1\n",
              "66                      Crispy Strip KFC     123  ...         5.73        1\n",
              "68                     Deluxe Burger KFC     340  ...        37.00        1\n",
              "70                       Fish Fillet KFC     330  ...        37.22        1\n",
              "73                            Twisty KFC     240  ...        18.00        1\n",
              "74               Zuper Krunch Burger KFC     480  ...        49.00        1\n",
              "77          French Blackpepper Bento KFC     470  ...        64.00        1\n",
              "79             Chocolate Molten Cake KFC     205  ...        28.00        1\n",
              "81                          Krushers KFC     375  ...        54.00        1\n",
              "82                     Cheezy Wedges KFC     310  ...        35.00        1\n",
              "84  Double Down Zinger Fillet Burger KFC     530  ...        44.00        1\n",
              "85                             Riser KFC     380  ...        31.00        1\n",
              "86                   Chicken Popcorn KFC     351  ...        21.00        1\n",
              "87                      Sambal Matah KFC     140  ...         5.00        1\n",
              "88                      Sambal Korek KFC      90  ...        13.00        1\n",
              "\n",
              "[53 rows x 6 columns]"
            ]
          },
          "metadata": {},
          "execution_count": 24
        }
      ]
    },
    {
      "cell_type": "code",
      "metadata": {
        "colab": {
          "base_uri": "https://localhost:8080/"
        },
        "id": "46t3KCRM9l9E",
        "outputId": "116ebd35-34ea-46cc-c4e3-6b18061a9aba"
      },
      "source": [
        "# Plot Cluster based on Kalori & Lemak\n",
        "cluster_value = cluster.labels_\n",
        "cluster_label = ['Cluster '+ str(i) for i in range(1,4)]\n",
        "colors = ['navy', 'blue', 'turquoise']\n",
        "lw = 2\n",
        "\n",
        "plt.figure(figsize = (10,7))\n",
        "plt.title('Cluster Plot Based on Calories & Fat Contents')\n",
        "for color, i, clust in zip(colors, [1,2,3], cluster_label):\n",
        "  plt.scatter(df_cluster1[df_cluster1['Cluster']==i]['Kalori'], df_cluster1[df_cluster1['Cluster']==i]['Lemak'], color = color, alpha = 0.8, lw = lw, label = clust)\n",
        "plt.xlabel('Calories')\n",
        "plt.ylabel('Fat')\n",
        "plt.legend();"
      ],
      "execution_count": null,
      "outputs": [
        {
          "output_type": "display_data",
          "data": {
            "image/png": "[encoded data removed]",
            "text/plain": [
              "<Figure size 720x504 with 1 Axes>"
            ]
          },
          "metadata": {
            "needs_background": "light"
          }
        }
      ]
    },
    {
      "cell_type": "markdown",
      "metadata": {
        "id": "ULFsNv9KOvME"
      },
      "source": [
        "#### Cluster Characteristics Analysis"
      ]
    },
    {
      "cell_type": "code",
      "metadata": {
        "colab": {
          "base_uri": "https://localhost:8080/"
        },
        "id": "9Hj_aScbPlX9",
        "outputId": "a19336b8-b0e1-4981-87c9-e4228463a895"
      },
      "source": [
        "# Calories Distribution\n",
        "plt.figure(figsize=(6, 4))\n",
        "ax = sns.boxplot(x=\"Cluster\", \n",
        "            y=\"Kalori\",\n",
        "            data = df_cluster1)\n",
        "ax.set(ylabel=\"Calories (kkal)\")\n",
        "plt.title(\"Calories Distribution in Each Cluster\")\n",
        "plt.show()"
      ],
      "execution_count": null,
      "outputs": [
        {
          "output_type": "display_data",
          "data": {
            "image/png": "[encoded data removed]",
            "text/plain": [
              "<Figure size 432x288 with 1 Axes>"
            ]
          },
          "metadata": {
            "needs_background": "light"
          }
        }
      ]
    },
    {
      "cell_type": "code",
      "metadata": {
        "colab": {
          "base_uri": "https://localhost:8080/"
        },
        "id": "2Oq3dtLjPxJH",
        "outputId": "a22a3280-a91c-4567-fc14-31ce190b45f0"
      },
      "source": [
        "# Fat Distribution\n",
        "plt.figure(figsize=(6, 4))\n",
        "ax = sns.boxplot(x=\"Cluster\", \n",
        "            y=\"Lemak\",\n",
        "            data = df_cluster1)\n",
        "ax.set(ylabel=\"Fat (g)\")\n",
        "plt.title(\"Fat Distribution in Each Cluster\")\n",
        "plt.show()"
      ],
      "execution_count": null,
      "outputs": [
        {
          "output_type": "display_data",
          "data": {
            "image/png": "[encoded data removed]",
            "text/plain": [
              "<Figure size 432x288 with 1 Axes>"
            ]
          },
          "metadata": {
            "needs_background": "light"
          }
        }
      ]
    },
    {
      "cell_type": "code",
      "metadata": {
        "colab": {
          "base_uri": "https://localhost:8080/"
        },
        "id": "yJvV2SzWQABS",
        "outputId": "33a95379-0b4c-4995-b4bf-00e2c338db00"
      },
      "source": [
        "# Protein Distribution\n",
        "plt.figure(figsize=(6, 4))\n",
        "ax = sns.boxplot(x=\"Cluster\", \n",
        "            y=\"Protein\",\n",
        "            data = df_cluster1)\n",
        "ax.set(ylabel=\"Protein (g)\")\n",
        "plt.title(\"Protein Distribution in Each Cluster\")\n",
        "plt.show()"
      ],
      "execution_count": null,
      "outputs": [
        {
          "output_type": "display_data",
          "data": {
            "image/png": "[encoded data removed]",
            "text/plain": [
              "<Figure size 432x288 with 1 Axes>"
            ]
          },
          "metadata": {
            "needs_background": "light"
          }
        }
      ]
    },
    {
      "cell_type": "code",
      "metadata": {
        "colab": {
          "base_uri": "https://localhost:8080/"
        },
        "id": "njAr04EYQOlA",
        "outputId": "943bf97e-564c-4acc-b083-520ce732efb8"
      },
      "source": [
        "# Karbohidrat Distribution\n",
        "plt.figure(figsize=(6, 4))\n",
        "ax = sns.boxplot(x=\"Cluster\", \n",
        "            y=\"Karbohidrat\",\n",
        "            data = df_cluster1)\n",
        "ax.set(ylabel=\"Carbohidrate (g)\")\n",
        "plt.title(\"Carbohidrate Distribution in Each Cluster\")\n",
        "plt.show()"
      ],
      "execution_count": null,
      "outputs": [
        {
          "output_type": "display_data",
          "data": {
            "image/png": "[encoded data removed]",
            "text/plain": [
              "<Figure size 432x288 with 1 Axes>"
            ]
          },
          "metadata": {
            "needs_background": "light"
          }
        }
      ]
    },
    {
      "cell_type": "markdown",
      "metadata": {
        "id": "s4ibQw0_QpPC"
      },
      "source": [
        "### Second Trial"
      ]
    },
    {
      "cell_type": "code",
      "metadata": {
        "colab": {
          "base_uri": "https://localhost:8080/",
          "height": 441
        },
        "id": "MOGJCzgHQpPC",
        "outputId": "dba6740d-72f0-44d4-9147-dee57b2d4343"
      },
      "source": [
        "# Determine number of clusters\n",
        "plt.figure(figsize = (10,7))\n",
        "plt.title('Second Trial Dendrogram')\n",
        "plt.axhline(y = 0.22, linestyle = '--', color = 'red', alpha = 0.8)\n",
        "dend = shc.dendrogram(shc.linkage(df_scaled, method= 'ward'))"
      ],
      "execution_count": null,
      "outputs": [
        {
          "output_type": "display_data",
          "data": {
            "image/png": "[encoded data removed]",
            "text/plain": [
              "<Figure size 720x504 with 1 Axes>"
            ]
          },
          "metadata": {
            "needs_background": "light"
          }
        }
      ]
    },
    {
      "cell_type": "markdown",
      "metadata": {
        "id": "HXTV-fw4QpPE"
      },
      "source": [
        "From the dendrogram, we decide to try using **4 clusters**."
      ]
    },
    {
      "cell_type": "code",
      "metadata": {
        "colab": {
          "base_uri": "https://localhost:8080/"
        },
        "id": "fF_e3n3_QpPE",
        "outputId": "b6f39679-3e03-4a1e-e688-e5a1bdd1a797"
      },
      "source": [
        "# Cluster the data\n",
        "cluster2 = ac(n_clusters = 4, affinity = 'euclidean', linkage = 'ward')\n",
        "cluster2.fit_predict(df_scaled)"
      ],
      "execution_count": null,
      "outputs": [
        {
          "output_type": "execute_result",
          "data": {
            "text/plain": [
              "array([2, 3, 1, 0, 1, 3, 3, 1, 3, 1, 1, 3, 0, 1, 2, 3, 0, 2, 2, 3, 2, 1,\n",
              "       3, 3, 3, 1, 2, 2, 2, 1, 0, 2, 2, 2, 2, 3, 2, 2, 2, 2, 2, 2, 2, 1,\n",
              "       2, 3, 2, 2, 1, 2, 0, 1, 0, 2, 0, 0, 0, 0, 0, 0, 1, 3, 3, 3, 0, 0,\n",
              "       2, 1, 3, 0, 3, 1, 0, 2, 2, 1, 0, 3, 1, 3, 1, 3, 3, 0, 2, 2, 2, 2,\n",
              "       3])"
            ]
          },
          "metadata": {},
          "execution_count": 31
        }
      ]
    },
    {
      "cell_type": "code",
      "metadata": {
        "colab": {
          "base_uri": "https://localhost:8080/",
          "height": 607
        },
        "id": "nNMBcfN2QpPE",
        "outputId": "819b4bd2-de0e-4045-dccf-c1a6446d350d"
      },
      "source": [
        "# Combine the cluster into the table\n",
        "df_cluster2 = df_cluster.copy()\n",
        "df_cluster2['Cluster'] = cluster2.labels_ + 1\n",
        "\n",
        "# Example of Cluster (Cluster 1)\n",
        "df_cluster2[df_cluster2['Cluster']==2][['Menu','Cluster']]"
      ],
      "execution_count": null,
      "outputs": [
        {
          "output_type": "execute_result",
          "data": {
            "text/html": [
              "<div>\n",
              "<style scoped>\n",
              "    .dataframe tbody tr th:only-of-type {\n",
              "        vertical-align: middle;\n",
              "    }\n",
              "\n",
              "    .dataframe tbody tr th {\n",
              "        vertical-align: top;\n",
              "    }\n",
              "\n",
              "    .dataframe thead th {\n",
              "        text-align: right;\n",
              "    }\n",
              "</style>\n",
              "<table border=\"1\" class=\"dataframe\">\n",
              "  <thead>\n",
              "    <tr style=\"text-align: right;\">\n",
              "      <th></th>\n",
              "      <th>Menu</th>\n",
              "      <th>Cluster</th>\n",
              "    </tr>\n",
              "  </thead>\n",
              "  <tbody>\n",
              "    <tr>\n",
              "      <th>2</th>\n",
              "      <td>Iced Lemon Tea Mcd</td>\n",
              "      <td>2</td>\n",
              "    </tr>\n",
              "    <tr>\n",
              "      <th>4</th>\n",
              "      <td>McFlurry - Oreo Mcd</td>\n",
              "      <td>2</td>\n",
              "    </tr>\n",
              "    <tr>\n",
              "      <th>7</th>\n",
              "      <td>Rice Mcd</td>\n",
              "      <td>2</td>\n",
              "    </tr>\n",
              "    <tr>\n",
              "      <th>9</th>\n",
              "      <td>McFlurry - Choco Mcd</td>\n",
              "      <td>2</td>\n",
              "    </tr>\n",
              "    <tr>\n",
              "      <th>10</th>\n",
              "      <td>Ice Cream Cone Mcd</td>\n",
              "      <td>2</td>\n",
              "    </tr>\n",
              "    <tr>\n",
              "      <th>13</th>\n",
              "      <td>Bubur Ayam Mcd</td>\n",
              "      <td>2</td>\n",
              "    </tr>\n",
              "    <tr>\n",
              "      <th>21</th>\n",
              "      <td>Iced Coffee Mcd</td>\n",
              "      <td>2</td>\n",
              "    </tr>\n",
              "    <tr>\n",
              "      <th>25</th>\n",
              "      <td>Chocolate Sundae Mcd</td>\n",
              "      <td>2</td>\n",
              "    </tr>\n",
              "    <tr>\n",
              "      <th>29</th>\n",
              "      <td>Strawberry Sundae Mcd</td>\n",
              "      <td>2</td>\n",
              "    </tr>\n",
              "    <tr>\n",
              "      <th>43</th>\n",
              "      <td>Choco Top Mcd</td>\n",
              "      <td>2</td>\n",
              "    </tr>\n",
              "    <tr>\n",
              "      <th>48</th>\n",
              "      <td>Hotcakes Mcd</td>\n",
              "      <td>2</td>\n",
              "    </tr>\n",
              "    <tr>\n",
              "      <th>51</th>\n",
              "      <td>Rice KFC</td>\n",
              "      <td>2</td>\n",
              "    </tr>\n",
              "    <tr>\n",
              "      <th>60</th>\n",
              "      <td>Mocha Float KFC</td>\n",
              "      <td>2</td>\n",
              "    </tr>\n",
              "    <tr>\n",
              "      <th>67</th>\n",
              "      <td>Ice Cream Sundae KFC</td>\n",
              "      <td>2</td>\n",
              "    </tr>\n",
              "    <tr>\n",
              "      <th>71</th>\n",
              "      <td>Tropical Float KFC</td>\n",
              "      <td>2</td>\n",
              "    </tr>\n",
              "    <tr>\n",
              "      <th>75</th>\n",
              "      <td>Spaghetti Deluxe KFC</td>\n",
              "      <td>2</td>\n",
              "    </tr>\n",
              "    <tr>\n",
              "      <th>78</th>\n",
              "      <td>Japanese Teriyaki Bento KFC</td>\n",
              "      <td>2</td>\n",
              "    </tr>\n",
              "    <tr>\n",
              "      <th>80</th>\n",
              "      <td>Colonel Yakiniku KFC</td>\n",
              "      <td>2</td>\n",
              "    </tr>\n",
              "  </tbody>\n",
              "</table>\n",
              "</div>"
            ],
            "text/plain": [
              "                           Menu  Cluster\n",
              "2            Iced Lemon Tea Mcd        2\n",
              "4           McFlurry - Oreo Mcd        2\n",
              "7                      Rice Mcd        2\n",
              "9          McFlurry - Choco Mcd        2\n",
              "10           Ice Cream Cone Mcd        2\n",
              "13               Bubur Ayam Mcd        2\n",
              "21              Iced Coffee Mcd        2\n",
              "25         Chocolate Sundae Mcd        2\n",
              "29        Strawberry Sundae Mcd        2\n",
              "43                Choco Top Mcd        2\n",
              "48                 Hotcakes Mcd        2\n",
              "51                     Rice KFC        2\n",
              "60              Mocha Float KFC        2\n",
              "67         Ice Cream Sundae KFC        2\n",
              "71           Tropical Float KFC        2\n",
              "75         Spaghetti Deluxe KFC        2\n",
              "78  Japanese Teriyaki Bento KFC        2\n",
              "80         Colonel Yakiniku KFC        2"
            ]
          },
          "metadata": {},
          "execution_count": 88
        }
      ]
    },
    {
      "cell_type": "code",
      "metadata": {
        "colab": {
          "base_uri": "https://localhost:8080/",
          "height": 458
        },
        "id": "eQPgOWw1QpPF",
        "outputId": "7f28f904-68b6-4ece-cc93-e2c70075a32b"
      },
      "source": [
        "# Plot Cluster based on Calories & Fat\n",
        "cluster_value2 = cluster2.labels_\n",
        "cluster_label2 = ['Cluster '+ str(i) for i in range(1,5)]\n",
        "colors2 = ['navy', 'blue', 'turquoise', 'paleturquoise']\n",
        "lw = 2\n",
        "\n",
        "plt.figure(figsize = (10,7))\n",
        "plt.title('Cluster Plot Based on Calories & Fat Contents')\n",
        "for color, i, clust in zip(colors2, [1,2,3,4], cluster_label2):\n",
        "  plt.scatter(df_cluster2[df_cluster2['Cluster']==i]['Kalori'], df_cluster2[df_cluster2['Cluster']==i]['Lemak'], color = color, alpha = 0.8, lw = lw, label = clust)\n",
        "plt.xlabel('Calories')\n",
        "plt.ylabel('Fat')\n",
        "plt.legend();"
      ],
      "execution_count": null,
      "outputs": [
        {
          "output_type": "display_data",
          "data": {
            "image/png": "[encoded data removed]",
            "text/plain": [
              "<Figure size 720x504 with 1 Axes>"
            ]
          },
          "metadata": {
            "needs_background": "light"
          }
        }
      ]
    },
    {
      "cell_type": "markdown",
      "metadata": {
        "id": "EDVfNSh0QpPF"
      },
      "source": [
        "#### Cluster Characteristics Analysis"
      ]
    },
    {
      "cell_type": "code",
      "metadata": {
        "colab": {
          "base_uri": "https://localhost:8080/",
          "height": 295
        },
        "id": "ICwW77m6QpPG",
        "outputId": "3955ab75-fd9a-444b-a7bb-21e7cdce528b"
      },
      "source": [
        "# Calories Distribution\n",
        "plt.figure(figsize=(6, 4))\n",
        "ax = sns.boxplot(x=\"Cluster\", \n",
        "            y=\"Kalori\",\n",
        "            data = df_cluster2)\n",
        "ax.set(ylabel=\"Calories (kkal)\")\n",
        "plt.title(\"Calories Distribution in Each Cluster\")\n",
        "plt.show()"
      ],
      "execution_count": null,
      "outputs": [
        {
          "output_type": "display_data",
          "data": {
            "image/png": "[encoded data removed]",
            "text/plain": [
              "<Figure size 432x288 with 1 Axes>"
            ]
          },
          "metadata": {
            "needs_background": "light"
          }
        }
      ]
    },
    {
      "cell_type": "code",
      "metadata": {
        "colab": {
          "base_uri": "https://localhost:8080/",
          "height": 295
        },
        "id": "P10wZ-7AQpPG",
        "outputId": "2df87068-5be5-497d-dc78-c149b6cde72c"
      },
      "source": [
        "# Fat Distribution\n",
        "plt.figure(figsize=(6, 4))\n",
        "ax = sns.boxplot(x=\"Cluster\", \n",
        "            y=\"Lemak\",\n",
        "            data = df_cluster2)\n",
        "ax.set(ylabel=\"Fat (g)\")\n",
        "plt.title(\"Fat Distribution in Each Cluster\")\n",
        "plt.show()"
      ],
      "execution_count": null,
      "outputs": [
        {
          "output_type": "display_data",
          "data": {
            "image/png": "[encoded data removed]",
            "text/plain": [
              "<Figure size 432x288 with 1 Axes>"
            ]
          },
          "metadata": {
            "needs_background": "light"
          }
        }
      ]
    },
    {
      "cell_type": "code",
      "metadata": {
        "colab": {
          "base_uri": "https://localhost:8080/",
          "height": 295
        },
        "id": "2dHYo9L3QpPG",
        "outputId": "58a92177-f303-4455-b798-183da6a362aa"
      },
      "source": [
        "# Protein Distribution\n",
        "plt.figure(figsize=(6, 4))\n",
        "ax = sns.boxplot(x=\"Cluster\", \n",
        "            y=\"Protein\",\n",
        "            data = df_cluster2)\n",
        "ax.set(ylabel=\"Protein (g)\")\n",
        "plt.title(\"Protein Distribution in Each Cluster\")\n",
        "plt.show()"
      ],
      "execution_count": null,
      "outputs": [
        {
          "output_type": "display_data",
          "data": {
            "image/png": "[encoded data removed]",
            "text/plain": [
              "<Figure size 432x288 with 1 Axes>"
            ]
          },
          "metadata": {
            "needs_background": "light"
          }
        }
      ]
    },
    {
      "cell_type": "code",
      "metadata": {
        "colab": {
          "base_uri": "https://localhost:8080/",
          "height": 295
        },
        "id": "0Y0XmhgVQpPH",
        "outputId": "1267ba9a-d138-4eff-a740-45be2e24a9cc"
      },
      "source": [
        "# Carbohidrate Distribution\n",
        "plt.figure(figsize=(6, 4))\n",
        "ax = sns.boxplot(x=\"Cluster\", \n",
        "            y=\"Karbohidrat\",\n",
        "            data = df_cluster2)\n",
        "ax.set(ylabel=\"Carbohidrate (g)\")\n",
        "plt.title(\"Carbohidrate Distribution in Each Cluster\")\n",
        "plt.show()"
      ],
      "execution_count": null,
      "outputs": [
        {
          "output_type": "display_data",
          "data": {
            "image/png": "[encoded data removed]",
            "text/plain": [
              "<Figure size 432x288 with 1 Axes>"
            ]
          },
          "metadata": {
            "needs_background": "light"
          }
        }
      ]
    },
    {
      "cell_type": "markdown",
      "metadata": {
        "id": "AXOE5a_WTcde"
      },
      "source": [
        "Comparing the cluster characteristics analysis and clusters' members between two trials, we decide to use **4 clusters**. However the boundaries between clusters are not clear enough when we plot it using calories and fat, therefore we will try to use PCA and see whether the projected lower dimensions create a clearer boundaries between each cluster."
      ]
    },
    {
      "cell_type": "markdown",
      "metadata": {
        "id": "jfiqc7A265XP"
      },
      "source": [
        "## PCA"
      ]
    },
    {
      "cell_type": "code",
      "metadata": {
        "id": "a6d2lg2K66uo"
      },
      "source": [
        "# PCA\n",
        "pca = PCA(random_state = 100)\n",
        "pca_fitted = pca.fit(df_scaled)\n",
        "X_r = pca_fitted.transform(df_scaled)"
      ],
      "execution_count": null,
      "outputs": []
    },
    {
      "cell_type": "code",
      "metadata": {
        "colab": {
          "base_uri": "https://localhost:8080/",
          "height": 458
        },
        "id": "uB1yodgj7zqt",
        "outputId": "50cb0d41-c319-482e-c505-dee5f5e60bfb"
      },
      "source": [
        "# Scree Plot\n",
        "PC_values = np.arange(pca_fitted.n_components_) + 1\n",
        "plt.figure(figsize=(10, 7))\n",
        "sns.barplot(x = PC_values, y = pca_fitted.explained_variance_ratio_,color='blue')\n",
        "plt.title('Scree Plot')\n",
        "plt.xlabel('Principal Component')\n",
        "plt.ylabel('Proportion of Variance Explained')\n",
        "for i in range(len(pca_fitted.explained_variance_ratio_)):\n",
        "    plt.annotate(str(round(pca_fitted.explained_variance_ratio_[i]*100,2))+\"%\", xy=(PC_values[i]-1, pca_fitted.explained_variance_ratio_[i]), ha='center', va='bottom')\n",
        "plt.show();"
      ],
      "execution_count": null,
      "outputs": [
        {
          "output_type": "display_data",
          "data": {
            "image/png": "[encoded data removed]",
            "text/plain": [
              "<Figure size 720x504 with 1 Axes>"
            ]
          },
          "metadata": {
            "needs_background": "light"
          }
        }
      ]
    },
    {
      "cell_type": "code",
      "metadata": {
        "colab": {
          "base_uri": "https://localhost:8080/",
          "height": 458
        },
        "id": "5pxMbcWS8Tob",
        "outputId": "12aefb2f-a961-43b1-ee65-43ed30c62620"
      },
      "source": [
        "# Cummulative Explained Variance\n",
        "cumsum = np.cumsum(pca_fitted.explained_variance_ratio_)\n",
        "\n",
        "# Cummulative Explained Variance Ratio Plot\n",
        "plt.figure(figsize=(15, 7))\n",
        "plt.plot(PC_values, cumsum,'ro-', linewidth=2, color = 'black')\n",
        "plt.axhline(y = 0.981, color = 'b', linestyle = 'dashed', alpha = 0.2)\n",
        "plt.axvline(x = 2, color = 'b', linestyle = 'dashed', alpha = 0.2)\n",
        "plt.title('Cummulative Explained Variance Plot')\n",
        "plt.xticks(PC_values)\n",
        "plt.xlabel('Principal Component')\n",
        "plt.ylabel('Cummulative Explained Variance')\n",
        "for i in range(len(pca_fitted.explained_variance_ratio_)):\n",
        "    plt.annotate(str(round(cumsum[i]*100,2))+\"%\", xy=(PC_values[i], cumsum[i]), ha='right', va='bottom')\n",
        "plt.show();"
      ],
      "execution_count": null,
      "outputs": [
        {
          "output_type": "display_data",
          "data": {
            "image/png": "[encoded data removed]",
            "text/plain": [
              "<Figure size 1080x504 with 1 Axes>"
            ]
          },
          "metadata": {
            "needs_background": "light"
          }
        }
      ]
    },
    {
      "cell_type": "markdown",
      "metadata": {
        "id": "EL5KRZy_61Tm"
      },
      "source": [
        "We will only use **2 principal components** since it has explained 98.07% variance of the original data.\n",
        "\n"
      ]
    },
    {
      "cell_type": "code",
      "metadata": {
        "colab": {
          "base_uri": "https://localhost:8080/",
          "height": 80
        },
        "id": "YO4am-HI-H_d",
        "outputId": "316397ce-13dc-4aab-c649-7294672ce6de"
      },
      "source": [
        "# Eigen values\n",
        "eigen_value = pca_fitted.explained_variance_\n",
        "eigen_value = pd.DataFrame(eigen_value).transpose()\n",
        "eigen_value.columns = ['Eigen Value ' + str(i) for i in range(1,5)]\n",
        "eigen_value"
      ],
      "execution_count": null,
      "outputs": [
        {
          "output_type": "execute_result",
          "data": {
            "text/html": [
              "<div>\n",
              "<style scoped>\n",
              "    .dataframe tbody tr th:only-of-type {\n",
              "        vertical-align: middle;\n",
              "    }\n",
              "\n",
              "    .dataframe tbody tr th {\n",
              "        vertical-align: top;\n",
              "    }\n",
              "\n",
              "    .dataframe thead th {\n",
              "        text-align: right;\n",
              "    }\n",
              "</style>\n",
              "<table border=\"1\" class=\"dataframe\">\n",
              "  <thead>\n",
              "    <tr style=\"text-align: right;\">\n",
              "      <th></th>\n",
              "      <th>Eigen Value 1</th>\n",
              "      <th>Eigen Value 2</th>\n",
              "      <th>Eigen Value 3</th>\n",
              "      <th>Eigen Value 4</th>\n",
              "    </tr>\n",
              "  </thead>\n",
              "  <tbody>\n",
              "    <tr>\n",
              "      <th>0</th>\n",
              "      <td>0.003744</td>\n",
              "      <td>0.00053</td>\n",
              "      <td>0.000079</td>\n",
              "      <td>0.000005</td>\n",
              "    </tr>\n",
              "  </tbody>\n",
              "</table>\n",
              "</div>"
            ],
            "text/plain": [
              "   Eigen Value 1  Eigen Value 2  Eigen Value 3  Eigen Value 4\n",
              "0       0.003744        0.00053       0.000079       0.000005"
            ]
          },
          "metadata": {},
          "execution_count": 41
        }
      ]
    },
    {
      "cell_type": "code",
      "metadata": {
        "colab": {
          "base_uri": "https://localhost:8080/",
          "height": 173
        },
        "id": "YH8cxeER_oU4",
        "outputId": "6414d73b-feeb-499a-a23c-c57cc34ca8e6"
      },
      "source": [
        "# Eigen vectors\n",
        "eigen_vector = pd.DataFrame(pca_fitted.components_.T, columns = [\"Eigen Vector \" + str(i) for i in range(1,5)])\n",
        "eigen_vector"
      ],
      "execution_count": null,
      "outputs": [
        {
          "output_type": "execute_result",
          "data": {
            "text/html": [
              "<div>\n",
              "<style scoped>\n",
              "    .dataframe tbody tr th:only-of-type {\n",
              "        vertical-align: middle;\n",
              "    }\n",
              "\n",
              "    .dataframe tbody tr th {\n",
              "        vertical-align: top;\n",
              "    }\n",
              "\n",
              "    .dataframe thead th {\n",
              "        text-align: right;\n",
              "    }\n",
              "</style>\n",
              "<table border=\"1\" class=\"dataframe\">\n",
              "  <thead>\n",
              "    <tr style=\"text-align: right;\">\n",
              "      <th></th>\n",
              "      <th>Eigen Vector 1</th>\n",
              "      <th>Eigen Vector 2</th>\n",
              "      <th>Eigen Vector 3</th>\n",
              "      <th>Eigen Vector 4</th>\n",
              "    </tr>\n",
              "  </thead>\n",
              "  <tbody>\n",
              "    <tr>\n",
              "      <th>0</th>\n",
              "      <td>-0.061565</td>\n",
              "      <td>-0.125332</td>\n",
              "      <td>-0.012711</td>\n",
              "      <td>-0.990121</td>\n",
              "    </tr>\n",
              "    <tr>\n",
              "      <th>1</th>\n",
              "      <td>-0.211514</td>\n",
              "      <td>-0.394993</td>\n",
              "      <td>-0.890887</td>\n",
              "      <td>0.074588</td>\n",
              "    </tr>\n",
              "    <tr>\n",
              "      <th>2</th>\n",
              "      <td>-0.396450</td>\n",
              "      <td>0.865156</td>\n",
              "      <td>-0.296247</td>\n",
              "      <td>-0.081060</td>\n",
              "    </tr>\n",
              "    <tr>\n",
              "      <th>3</th>\n",
              "      <td>0.891235</td>\n",
              "      <td>0.282449</td>\n",
              "      <td>-0.344089</td>\n",
              "      <td>-0.086752</td>\n",
              "    </tr>\n",
              "  </tbody>\n",
              "</table>\n",
              "</div>"
            ],
            "text/plain": [
              "   Eigen Vector 1  Eigen Vector 2  Eigen Vector 3  Eigen Vector 4\n",
              "0       -0.061565       -0.125332       -0.012711       -0.990121\n",
              "1       -0.211514       -0.394993       -0.890887        0.074588\n",
              "2       -0.396450        0.865156       -0.296247       -0.081060\n",
              "3        0.891235        0.282449       -0.344089       -0.086752"
            ]
          },
          "metadata": {},
          "execution_count": 42
        }
      ]
    },
    {
      "cell_type": "code",
      "metadata": {
        "colab": {
          "base_uri": "https://localhost:8080/"
        },
        "id": "VZZ-uZRJ-bDq",
        "outputId": "c702fe8e-ac16-4f29-d83b-099efd205a9e"
      },
      "source": [
        "# Principal components equations\n",
        "for i in range(0,4):\n",
        "  y = \"PC_\" + str(i+1) + \"=\"\n",
        "  eig = str(round(eigen_vector.iloc[0,i],4)) + df_scaled.columns[0]\n",
        "  for j in range(1,4):\n",
        "      if eigen_vector.iloc[j,i] >= 0:\n",
        "        eig = eig + \" + \" + str(round(eigen_vector.iloc[j,i],4)) + df_scaled.columns[j]\n",
        "      else:\n",
        "        eig = eig + \" - \" + str(abs(round(eigen_vector.iloc[j,i],4))) + df_scaled.columns[j]\n",
        "  print(y, eig)"
      ],
      "execution_count": null,
      "outputs": [
        {
          "output_type": "stream",
          "name": "stdout",
          "text": [
            "PC_1= -0.0616Kalori - 0.2115Lemak - 0.3964Protein + 0.8912Karbohidrat\n",
            "PC_2= -0.1253Kalori - 0.395Lemak + 0.8652Protein + 0.2824Karbohidrat\n",
            "PC_3= -0.0127Kalori - 0.8909Lemak - 0.2962Protein - 0.3441Karbohidrat\n",
            "PC_4= -0.9901Kalori + 0.0746Lemak - 0.0811Protein - 0.0868Karbohidrat\n"
          ]
        }
      ]
    },
    {
      "cell_type": "code",
      "metadata": {
        "colab": {
          "base_uri": "https://localhost:8080/",
          "height": 173
        },
        "id": "6tYCtZEBIHFC",
        "outputId": "ed7057ae-a843-4fc0-a6a6-8c77ab47668a"
      },
      "source": [
        "# Calculate correlation\n",
        "correlation = pca_fitted.components_.T * np.sqrt(pca_fitted.explained_variance_)\n",
        "\n",
        "# Correlation Matrix\n",
        "correlation_matrix = pd.DataFrame(correlation, columns=['PC'+str(i) for i in range(1,5)], index=df_scaled.columns)\n",
        "correlation_matrix"
      ],
      "execution_count": null,
      "outputs": [
        {
          "output_type": "execute_result",
          "data": {
            "text/html": [
              "<div>\n",
              "<style scoped>\n",
              "    .dataframe tbody tr th:only-of-type {\n",
              "        vertical-align: middle;\n",
              "    }\n",
              "\n",
              "    .dataframe tbody tr th {\n",
              "        vertical-align: top;\n",
              "    }\n",
              "\n",
              "    .dataframe thead th {\n",
              "        text-align: right;\n",
              "    }\n",
              "</style>\n",
              "<table border=\"1\" class=\"dataframe\">\n",
              "  <thead>\n",
              "    <tr style=\"text-align: right;\">\n",
              "      <th></th>\n",
              "      <th>PC1</th>\n",
              "      <th>PC2</th>\n",
              "      <th>PC3</th>\n",
              "      <th>PC4</th>\n",
              "    </tr>\n",
              "  </thead>\n",
              "  <tbody>\n",
              "    <tr>\n",
              "      <th>Kalori</th>\n",
              "      <td>-0.003767</td>\n",
              "      <td>-0.002886</td>\n",
              "      <td>-0.000113</td>\n",
              "      <td>-0.002266</td>\n",
              "    </tr>\n",
              "    <tr>\n",
              "      <th>Lemak</th>\n",
              "      <td>-0.012942</td>\n",
              "      <td>-0.009097</td>\n",
              "      <td>-0.007923</td>\n",
              "      <td>0.000171</td>\n",
              "    </tr>\n",
              "    <tr>\n",
              "      <th>Protein</th>\n",
              "      <td>-0.024257</td>\n",
              "      <td>0.019925</td>\n",
              "      <td>-0.002635</td>\n",
              "      <td>-0.000185</td>\n",
              "    </tr>\n",
              "    <tr>\n",
              "      <th>Karbohidrat</th>\n",
              "      <td>0.054531</td>\n",
              "      <td>0.006505</td>\n",
              "      <td>-0.003060</td>\n",
              "      <td>-0.000199</td>\n",
              "    </tr>\n",
              "  </tbody>\n",
              "</table>\n",
              "</div>"
            ],
            "text/plain": [
              "                  PC1       PC2       PC3       PC4\n",
              "Kalori      -0.003767 -0.002886 -0.000113 -0.002266\n",
              "Lemak       -0.012942 -0.009097 -0.007923  0.000171\n",
              "Protein     -0.024257  0.019925 -0.002635 -0.000185\n",
              "Karbohidrat  0.054531  0.006505 -0.003060 -0.000199"
            ]
          },
          "metadata": {},
          "execution_count": 44
        }
      ]
    },
    {
      "cell_type": "markdown",
      "metadata": {
        "id": "yxRdEesRI0Q_"
      },
      "source": [
        "Interpretations : \n",
        "* First principal component is a contrast between protein and carbohidrate.\n",
        "* Second principal component has a highest correlation with protein."
      ]
    },
    {
      "cell_type": "code",
      "metadata": {
        "colab": {
          "base_uri": "https://localhost:8080/",
          "height": 458
        },
        "id": "JaoNvuA289Iy",
        "outputId": "a44a1f95-3a97-4f3f-c044-edce2c342f29"
      },
      "source": [
        "# Plot clusters result using PCA\n",
        "cluster_value2 = cluster2.labels_\n",
        "cluster_label2 = ['Cluster '+ str(i) for i in range(1,5)]\n",
        "colors2 = ['navy', 'blue', 'turquoise', 'darkcyan']\n",
        "lw = 2\n",
        "\n",
        "plt.figure(figsize=(10, 7))\n",
        "for color, i, clust in zip(colors2, [0,1,2,3], cluster_label2):\n",
        "  plt.scatter(X_r[cluster_value2 == i, 0], X_r[cluster_value2 == i, 1], color = color, alpha = 0.8, lw = lw, label = clust)\n",
        "\n",
        "plt.legend(loc = 'best', shadow = False, scatterpoints = 1)\n",
        "plt.xlabel('First Principal Component')\n",
        "plt.ylabel('Second Principal Component')\n",
        "plt.title('Cluster Plot based on PC');"
      ],
      "execution_count": null,
      "outputs": [
        {
          "output_type": "display_data",
          "data": {
            "image/png": "[encoded data removed]",
            "text/plain": [
              "<Figure size 720x504 with 1 Axes>"
            ]
          },
          "metadata": {
            "needs_background": "light"
          }
        }
      ]
    },
    {
      "cell_type": "markdown",
      "metadata": {
        "id": "oz38tkDdVVVz"
      },
      "source": [
        "Okay, it turns out that the PCs successfully seperate the clusters. We will try to see menu name of each cluster to draw the conclusion."
      ]
    },
    {
      "cell_type": "code",
      "metadata": {
        "id": "XwpdNJiJVjqQ"
      },
      "source": [
        "result_cluster = df_cluster2[['Cluster','Menu']].sort_values('Cluster').reset_index(drop=True)\n",
        "result_cluster['Restoran'] = [x.split()[-1] for x in result_cluster['Menu']]\n",
        "result_cluster['Menu'] = [x.rsplit(' ', 1)[0] for x in result_cluster['Menu']]"
      ],
      "execution_count": null,
      "outputs": []
    },
    {
      "cell_type": "code",
      "metadata": {
        "colab": {
          "base_uri": "https://localhost:8080/",
          "height": 607
        },
        "id": "n0QAUwN6WVuM",
        "outputId": "e35980fa-ad49-442c-9e8c-001f04512c57"
      },
      "source": [
        "# Cluster 1\n",
        "result_cluster[result_cluster['Cluster']==1].sort_values(['Restoran','Menu']).reset_index(drop=True)"
      ],
      "execution_count": null,
      "outputs": [
        {
          "output_type": "execute_result",
          "data": {
            "text/html": [
              "<div>\n",
              "<style scoped>\n",
              "    .dataframe tbody tr th:only-of-type {\n",
              "        vertical-align: middle;\n",
              "    }\n",
              "\n",
              "    .dataframe tbody tr th {\n",
              "        vertical-align: top;\n",
              "    }\n",
              "\n",
              "    .dataframe thead th {\n",
              "        text-align: right;\n",
              "    }\n",
              "</style>\n",
              "<table border=\"1\" class=\"dataframe\">\n",
              "  <thead>\n",
              "    <tr style=\"text-align: right;\">\n",
              "      <th></th>\n",
              "      <th>Cluster</th>\n",
              "      <th>Menu</th>\n",
              "      <th>Restoran</th>\n",
              "    </tr>\n",
              "  </thead>\n",
              "  <tbody>\n",
              "    <tr>\n",
              "      <th>0</th>\n",
              "      <td>1</td>\n",
              "      <td>Chicken Breast Hot &amp; Crispy</td>\n",
              "      <td>KFC</td>\n",
              "    </tr>\n",
              "    <tr>\n",
              "      <th>1</th>\n",
              "      <td>1</td>\n",
              "      <td>Chicken Breast Original Recipe</td>\n",
              "      <td>KFC</td>\n",
              "    </tr>\n",
              "    <tr>\n",
              "      <th>2</th>\n",
              "      <td>1</td>\n",
              "      <td>Chicken Drumstick Original Recipe</td>\n",
              "      <td>KFC</td>\n",
              "    </tr>\n",
              "    <tr>\n",
              "      <th>3</th>\n",
              "      <td>1</td>\n",
              "      <td>Chicken Wing Original Recipe</td>\n",
              "      <td>KFC</td>\n",
              "    </tr>\n",
              "    <tr>\n",
              "      <th>4</th>\n",
              "      <td>1</td>\n",
              "      <td>Crispy Chicken Thigh</td>\n",
              "      <td>KFC</td>\n",
              "    </tr>\n",
              "    <tr>\n",
              "      <th>5</th>\n",
              "      <td>1</td>\n",
              "      <td>Crispy Chicken Wing</td>\n",
              "      <td>KFC</td>\n",
              "    </tr>\n",
              "    <tr>\n",
              "      <th>6</th>\n",
              "      <td>1</td>\n",
              "      <td>Crispy Drumstick</td>\n",
              "      <td>KFC</td>\n",
              "    </tr>\n",
              "    <tr>\n",
              "      <th>7</th>\n",
              "      <td>1</td>\n",
              "      <td>Dada Ayam</td>\n",
              "      <td>KFC</td>\n",
              "    </tr>\n",
              "    <tr>\n",
              "      <th>8</th>\n",
              "      <td>1</td>\n",
              "      <td>Dada Ayam Original</td>\n",
              "      <td>KFC</td>\n",
              "    </tr>\n",
              "    <tr>\n",
              "      <th>9</th>\n",
              "      <td>1</td>\n",
              "      <td>Mini Chizza</td>\n",
              "      <td>KFC</td>\n",
              "    </tr>\n",
              "    <tr>\n",
              "      <th>10</th>\n",
              "      <td>1</td>\n",
              "      <td>Original Recipe Chicken</td>\n",
              "      <td>KFC</td>\n",
              "    </tr>\n",
              "    <tr>\n",
              "      <th>11</th>\n",
              "      <td>1</td>\n",
              "      <td>Paha Atas Extra Crispy</td>\n",
              "      <td>KFC</td>\n",
              "    </tr>\n",
              "    <tr>\n",
              "      <th>12</th>\n",
              "      <td>1</td>\n",
              "      <td>Paha Atas Original Recipe</td>\n",
              "      <td>KFC</td>\n",
              "    </tr>\n",
              "    <tr>\n",
              "      <th>13</th>\n",
              "      <td>1</td>\n",
              "      <td>Paha Bawah Crispy</td>\n",
              "      <td>KFC</td>\n",
              "    </tr>\n",
              "    <tr>\n",
              "      <th>14</th>\n",
              "      <td>1</td>\n",
              "      <td>Breakfast Wrap</td>\n",
              "      <td>Mcd</td>\n",
              "    </tr>\n",
              "    <tr>\n",
              "      <th>15</th>\n",
              "      <td>1</td>\n",
              "      <td>Chicken Wings</td>\n",
              "      <td>Mcd</td>\n",
              "    </tr>\n",
              "    <tr>\n",
              "      <th>16</th>\n",
              "      <td>1</td>\n",
              "      <td>Fried Chicken (Thigh)</td>\n",
              "      <td>Mcd</td>\n",
              "    </tr>\n",
              "    <tr>\n",
              "      <th>17</th>\n",
              "      <td>1</td>\n",
              "      <td>Scrambled Eggs</td>\n",
              "      <td>Mcd</td>\n",
              "    </tr>\n",
              "  </tbody>\n",
              "</table>\n",
              "</div>"
            ],
            "text/plain": [
              "    Cluster                               Menu Restoran\n",
              "0         1        Chicken Breast Hot & Crispy      KFC\n",
              "1         1     Chicken Breast Original Recipe      KFC\n",
              "2         1  Chicken Drumstick Original Recipe      KFC\n",
              "3         1       Chicken Wing Original Recipe      KFC\n",
              "4         1               Crispy Chicken Thigh      KFC\n",
              "5         1                Crispy Chicken Wing      KFC\n",
              "6         1                   Crispy Drumstick      KFC\n",
              "7         1                          Dada Ayam      KFC\n",
              "8         1                 Dada Ayam Original      KFC\n",
              "9         1                        Mini Chizza      KFC\n",
              "10        1            Original Recipe Chicken      KFC\n",
              "11        1             Paha Atas Extra Crispy      KFC\n",
              "12        1          Paha Atas Original Recipe      KFC\n",
              "13        1                  Paha Bawah Crispy      KFC\n",
              "14        1                     Breakfast Wrap      Mcd\n",
              "15        1                      Chicken Wings      Mcd\n",
              "16        1              Fried Chicken (Thigh)      Mcd\n",
              "17        1                     Scrambled Eggs      Mcd"
            ]
          },
          "metadata": {},
          "execution_count": 47
        }
      ]
    },
    {
      "cell_type": "code",
      "metadata": {
        "colab": {
          "base_uri": "https://localhost:8080/",
          "height": 607
        },
        "id": "yyXxcU1ZWblW",
        "outputId": "50a4b9cc-aca3-4d86-b469-f591d3dcb0c7"
      },
      "source": [
        "# Cluster 2\n",
        "result_cluster[result_cluster['Cluster']==2].sort_values(['Restoran','Menu']).reset_index(drop=True)"
      ],
      "execution_count": null,
      "outputs": [
        {
          "output_type": "execute_result",
          "data": {
            "text/html": [
              "<div>\n",
              "<style scoped>\n",
              "    .dataframe tbody tr th:only-of-type {\n",
              "        vertical-align: middle;\n",
              "    }\n",
              "\n",
              "    .dataframe tbody tr th {\n",
              "        vertical-align: top;\n",
              "    }\n",
              "\n",
              "    .dataframe thead th {\n",
              "        text-align: right;\n",
              "    }\n",
              "</style>\n",
              "<table border=\"1\" class=\"dataframe\">\n",
              "  <thead>\n",
              "    <tr style=\"text-align: right;\">\n",
              "      <th></th>\n",
              "      <th>Cluster</th>\n",
              "      <th>Menu</th>\n",
              "      <th>Restoran</th>\n",
              "    </tr>\n",
              "  </thead>\n",
              "  <tbody>\n",
              "    <tr>\n",
              "      <th>0</th>\n",
              "      <td>2</td>\n",
              "      <td>Colonel Yakiniku</td>\n",
              "      <td>KFC</td>\n",
              "    </tr>\n",
              "    <tr>\n",
              "      <th>1</th>\n",
              "      <td>2</td>\n",
              "      <td>Ice Cream Sundae</td>\n",
              "      <td>KFC</td>\n",
              "    </tr>\n",
              "    <tr>\n",
              "      <th>2</th>\n",
              "      <td>2</td>\n",
              "      <td>Japanese Teriyaki Bento</td>\n",
              "      <td>KFC</td>\n",
              "    </tr>\n",
              "    <tr>\n",
              "      <th>3</th>\n",
              "      <td>2</td>\n",
              "      <td>Mocha Float</td>\n",
              "      <td>KFC</td>\n",
              "    </tr>\n",
              "    <tr>\n",
              "      <th>4</th>\n",
              "      <td>2</td>\n",
              "      <td>Rice</td>\n",
              "      <td>KFC</td>\n",
              "    </tr>\n",
              "    <tr>\n",
              "      <th>5</th>\n",
              "      <td>2</td>\n",
              "      <td>Spaghetti Deluxe</td>\n",
              "      <td>KFC</td>\n",
              "    </tr>\n",
              "    <tr>\n",
              "      <th>6</th>\n",
              "      <td>2</td>\n",
              "      <td>Tropical Float</td>\n",
              "      <td>KFC</td>\n",
              "    </tr>\n",
              "    <tr>\n",
              "      <th>7</th>\n",
              "      <td>2</td>\n",
              "      <td>Bubur Ayam</td>\n",
              "      <td>Mcd</td>\n",
              "    </tr>\n",
              "    <tr>\n",
              "      <th>8</th>\n",
              "      <td>2</td>\n",
              "      <td>Choco Top</td>\n",
              "      <td>Mcd</td>\n",
              "    </tr>\n",
              "    <tr>\n",
              "      <th>9</th>\n",
              "      <td>2</td>\n",
              "      <td>Chocolate Sundae</td>\n",
              "      <td>Mcd</td>\n",
              "    </tr>\n",
              "    <tr>\n",
              "      <th>10</th>\n",
              "      <td>2</td>\n",
              "      <td>Hotcakes</td>\n",
              "      <td>Mcd</td>\n",
              "    </tr>\n",
              "    <tr>\n",
              "      <th>11</th>\n",
              "      <td>2</td>\n",
              "      <td>Ice Cream Cone</td>\n",
              "      <td>Mcd</td>\n",
              "    </tr>\n",
              "    <tr>\n",
              "      <th>12</th>\n",
              "      <td>2</td>\n",
              "      <td>Iced Coffee</td>\n",
              "      <td>Mcd</td>\n",
              "    </tr>\n",
              "    <tr>\n",
              "      <th>13</th>\n",
              "      <td>2</td>\n",
              "      <td>Iced Lemon Tea</td>\n",
              "      <td>Mcd</td>\n",
              "    </tr>\n",
              "    <tr>\n",
              "      <th>14</th>\n",
              "      <td>2</td>\n",
              "      <td>McFlurry - Choco</td>\n",
              "      <td>Mcd</td>\n",
              "    </tr>\n",
              "    <tr>\n",
              "      <th>15</th>\n",
              "      <td>2</td>\n",
              "      <td>McFlurry - Oreo</td>\n",
              "      <td>Mcd</td>\n",
              "    </tr>\n",
              "    <tr>\n",
              "      <th>16</th>\n",
              "      <td>2</td>\n",
              "      <td>Rice</td>\n",
              "      <td>Mcd</td>\n",
              "    </tr>\n",
              "    <tr>\n",
              "      <th>17</th>\n",
              "      <td>2</td>\n",
              "      <td>Strawberry Sundae</td>\n",
              "      <td>Mcd</td>\n",
              "    </tr>\n",
              "  </tbody>\n",
              "</table>\n",
              "</div>"
            ],
            "text/plain": [
              "    Cluster                     Menu Restoran\n",
              "0         2         Colonel Yakiniku      KFC\n",
              "1         2         Ice Cream Sundae      KFC\n",
              "2         2  Japanese Teriyaki Bento      KFC\n",
              "3         2              Mocha Float      KFC\n",
              "4         2                     Rice      KFC\n",
              "5         2         Spaghetti Deluxe      KFC\n",
              "6         2           Tropical Float      KFC\n",
              "7         2               Bubur Ayam      Mcd\n",
              "8         2                Choco Top      Mcd\n",
              "9         2         Chocolate Sundae      Mcd\n",
              "10        2                 Hotcakes      Mcd\n",
              "11        2           Ice Cream Cone      Mcd\n",
              "12        2              Iced Coffee      Mcd\n",
              "13        2           Iced Lemon Tea      Mcd\n",
              "14        2         McFlurry - Choco      Mcd\n",
              "15        2          McFlurry - Oreo      Mcd\n",
              "16        2                     Rice      Mcd\n",
              "17        2        Strawberry Sundae      Mcd"
            ]
          },
          "metadata": {},
          "execution_count": 48
        }
      ]
    },
    {
      "cell_type": "code",
      "metadata": {
        "colab": {
          "base_uri": "https://localhost:8080/",
          "height": 1000
        },
        "id": "pOeu2uRZWk2n",
        "outputId": "ea4aa062-dd9c-4606-872b-e85b66dc53a0"
      },
      "source": [
        "# Cluster 3\n",
        "result_cluster[result_cluster['Cluster']==3].sort_values(['Restoran','Menu']).reset_index(drop=True)"
      ],
      "execution_count": null,
      "outputs": [
        {
          "output_type": "execute_result",
          "data": {
            "text/html": [
              "<div>\n",
              "<style scoped>\n",
              "    .dataframe tbody tr th:only-of-type {\n",
              "        vertical-align: middle;\n",
              "    }\n",
              "\n",
              "    .dataframe tbody tr th {\n",
              "        vertical-align: top;\n",
              "    }\n",
              "\n",
              "    .dataframe thead th {\n",
              "        text-align: right;\n",
              "    }\n",
              "</style>\n",
              "<table border=\"1\" class=\"dataframe\">\n",
              "  <thead>\n",
              "    <tr style=\"text-align: right;\">\n",
              "      <th></th>\n",
              "      <th>Cluster</th>\n",
              "      <th>Menu</th>\n",
              "      <th>Restoran</th>\n",
              "    </tr>\n",
              "  </thead>\n",
              "  <tbody>\n",
              "    <tr>\n",
              "      <th>0</th>\n",
              "      <td>3</td>\n",
              "      <td>Chicken Popcorn</td>\n",
              "      <td>KFC</td>\n",
              "    </tr>\n",
              "    <tr>\n",
              "      <th>1</th>\n",
              "      <td>3</td>\n",
              "      <td>Crispy Strip</td>\n",
              "      <td>KFC</td>\n",
              "    </tr>\n",
              "    <tr>\n",
              "      <th>2</th>\n",
              "      <td>3</td>\n",
              "      <td>Double Down Zinger Fillet Burger</td>\n",
              "      <td>KFC</td>\n",
              "    </tr>\n",
              "    <tr>\n",
              "      <th>3</th>\n",
              "      <td>3</td>\n",
              "      <td>Perkedel</td>\n",
              "      <td>KFC</td>\n",
              "    </tr>\n",
              "    <tr>\n",
              "      <th>4</th>\n",
              "      <td>3</td>\n",
              "      <td>Riser</td>\n",
              "      <td>KFC</td>\n",
              "    </tr>\n",
              "    <tr>\n",
              "      <th>5</th>\n",
              "      <td>3</td>\n",
              "      <td>Sambal Matah</td>\n",
              "      <td>KFC</td>\n",
              "    </tr>\n",
              "    <tr>\n",
              "      <th>6</th>\n",
              "      <td>3</td>\n",
              "      <td>Twisty</td>\n",
              "      <td>KFC</td>\n",
              "    </tr>\n",
              "    <tr>\n",
              "      <th>7</th>\n",
              "      <td>3</td>\n",
              "      <td>Zuper Krunch Burger</td>\n",
              "      <td>KFC</td>\n",
              "    </tr>\n",
              "    <tr>\n",
              "      <th>8</th>\n",
              "      <td>3</td>\n",
              "      <td>Ayam Goreng Mcd Spicy</td>\n",
              "      <td>Mcd</td>\n",
              "    </tr>\n",
              "    <tr>\n",
              "      <th>9</th>\n",
              "      <td>3</td>\n",
              "      <td>Big Breakfast</td>\n",
              "      <td>Mcd</td>\n",
              "    </tr>\n",
              "    <tr>\n",
              "      <th>10</th>\n",
              "      <td>3</td>\n",
              "      <td>Big Mac</td>\n",
              "      <td>Mcd</td>\n",
              "    </tr>\n",
              "    <tr>\n",
              "      <th>11</th>\n",
              "      <td>3</td>\n",
              "      <td>Chicken Mcmuffin</td>\n",
              "      <td>Mcd</td>\n",
              "    </tr>\n",
              "    <tr>\n",
              "      <th>12</th>\n",
              "      <td>3</td>\n",
              "      <td>Chicken Muffin</td>\n",
              "      <td>Mcd</td>\n",
              "    </tr>\n",
              "    <tr>\n",
              "      <th>13</th>\n",
              "      <td>3</td>\n",
              "      <td>Chicken Muffin With Egg</td>\n",
              "      <td>Mcd</td>\n",
              "    </tr>\n",
              "    <tr>\n",
              "      <th>14</th>\n",
              "      <td>3</td>\n",
              "      <td>Chicken Snack Wrap</td>\n",
              "      <td>Mcd</td>\n",
              "    </tr>\n",
              "    <tr>\n",
              "      <th>15</th>\n",
              "      <td>3</td>\n",
              "      <td>Coffee Float</td>\n",
              "      <td>Mcd</td>\n",
              "    </tr>\n",
              "    <tr>\n",
              "      <th>16</th>\n",
              "      <td>3</td>\n",
              "      <td>Crispy Chicken Breast</td>\n",
              "      <td>Mcd</td>\n",
              "    </tr>\n",
              "    <tr>\n",
              "      <th>17</th>\n",
              "      <td>3</td>\n",
              "      <td>Double Cheeseburger</td>\n",
              "      <td>Mcd</td>\n",
              "    </tr>\n",
              "    <tr>\n",
              "      <th>18</th>\n",
              "      <td>3</td>\n",
              "      <td>Egg McMuffin</td>\n",
              "      <td>Mcd</td>\n",
              "    </tr>\n",
              "    <tr>\n",
              "      <th>19</th>\n",
              "      <td>3</td>\n",
              "      <td>Fish Bites</td>\n",
              "      <td>Mcd</td>\n",
              "    </tr>\n",
              "    <tr>\n",
              "      <th>20</th>\n",
              "      <td>3</td>\n",
              "      <td>Fish Fillet Burger</td>\n",
              "      <td>Mcd</td>\n",
              "    </tr>\n",
              "    <tr>\n",
              "      <th>21</th>\n",
              "      <td>3</td>\n",
              "      <td>McChicken</td>\n",
              "      <td>Mcd</td>\n",
              "    </tr>\n",
              "    <tr>\n",
              "      <th>22</th>\n",
              "      <td>3</td>\n",
              "      <td>McDouble</td>\n",
              "      <td>Mcd</td>\n",
              "    </tr>\n",
              "    <tr>\n",
              "      <th>23</th>\n",
              "      <td>3</td>\n",
              "      <td>McNuggets (6)</td>\n",
              "      <td>Mcd</td>\n",
              "    </tr>\n",
              "    <tr>\n",
              "      <th>24</th>\n",
              "      <td>3</td>\n",
              "      <td>McNuggets (9)</td>\n",
              "      <td>Mcd</td>\n",
              "    </tr>\n",
              "    <tr>\n",
              "      <th>25</th>\n",
              "      <td>3</td>\n",
              "      <td>McSpicy Chicken Burger</td>\n",
              "      <td>Mcd</td>\n",
              "    </tr>\n",
              "    <tr>\n",
              "      <th>26</th>\n",
              "      <td>3</td>\n",
              "      <td>Sausage McMuffin</td>\n",
              "      <td>Mcd</td>\n",
              "    </tr>\n",
              "    <tr>\n",
              "      <th>27</th>\n",
              "      <td>3</td>\n",
              "      <td>Sausage Wrap</td>\n",
              "      <td>Mcd</td>\n",
              "    </tr>\n",
              "    <tr>\n",
              "      <th>28</th>\n",
              "      <td>3</td>\n",
              "      <td>Saussage McMuffin with Egg</td>\n",
              "      <td>Mcd</td>\n",
              "    </tr>\n",
              "    <tr>\n",
              "      <th>29</th>\n",
              "      <td>3</td>\n",
              "      <td>Spicy Chicken Bites</td>\n",
              "      <td>Mcd</td>\n",
              "    </tr>\n",
              "    <tr>\n",
              "      <th>30</th>\n",
              "      <td>3</td>\n",
              "      <td>Triple Cheeseburger</td>\n",
              "      <td>Mcd</td>\n",
              "    </tr>\n",
              "  </tbody>\n",
              "</table>\n",
              "</div>"
            ],
            "text/plain": [
              "    Cluster                              Menu Restoran\n",
              "0         3                   Chicken Popcorn      KFC\n",
              "1         3                      Crispy Strip      KFC\n",
              "2         3  Double Down Zinger Fillet Burger      KFC\n",
              "3         3                          Perkedel      KFC\n",
              "4         3                             Riser      KFC\n",
              "5         3                      Sambal Matah      KFC\n",
              "6         3                            Twisty      KFC\n",
              "7         3               Zuper Krunch Burger      KFC\n",
              "8         3             Ayam Goreng Mcd Spicy      Mcd\n",
              "9         3                     Big Breakfast      Mcd\n",
              "10        3                           Big Mac      Mcd\n",
              "11        3                  Chicken Mcmuffin      Mcd\n",
              "12        3                    Chicken Muffin      Mcd\n",
              "13        3           Chicken Muffin With Egg      Mcd\n",
              "14        3                Chicken Snack Wrap      Mcd\n",
              "15        3                      Coffee Float      Mcd\n",
              "16        3             Crispy Chicken Breast      Mcd\n",
              "17        3               Double Cheeseburger      Mcd\n",
              "18        3                      Egg McMuffin      Mcd\n",
              "19        3                        Fish Bites      Mcd\n",
              "20        3                Fish Fillet Burger      Mcd\n",
              "21        3                         McChicken      Mcd\n",
              "22        3                          McDouble      Mcd\n",
              "23        3                     McNuggets (6)      Mcd\n",
              "24        3                     McNuggets (9)      Mcd\n",
              "25        3            McSpicy Chicken Burger      Mcd\n",
              "26        3                  Sausage McMuffin      Mcd\n",
              "27        3                      Sausage Wrap      Mcd\n",
              "28        3        Saussage McMuffin with Egg      Mcd\n",
              "29        3               Spicy Chicken Bites      Mcd\n",
              "30        3               Triple Cheeseburger      Mcd"
            ]
          },
          "metadata": {},
          "execution_count": 49
        }
      ]
    },
    {
      "cell_type": "code",
      "metadata": {
        "colab": {
          "base_uri": "https://localhost:8080/",
          "height": 731
        },
        "id": "2kcLne2IWq5e",
        "outputId": "a43cf15e-e10f-4c81-84e9-93308a54dc8c"
      },
      "source": [
        "# Cluster 4\n",
        "result_cluster[result_cluster['Cluster']==4].sort_values(['Restoran','Menu']).reset_index(drop=True)"
      ],
      "execution_count": null,
      "outputs": [
        {
          "output_type": "execute_result",
          "data": {
            "text/html": [
              "<div>\n",
              "<style scoped>\n",
              "    .dataframe tbody tr th:only-of-type {\n",
              "        vertical-align: middle;\n",
              "    }\n",
              "\n",
              "    .dataframe tbody tr th {\n",
              "        vertical-align: top;\n",
              "    }\n",
              "\n",
              "    .dataframe thead th {\n",
              "        text-align: right;\n",
              "    }\n",
              "</style>\n",
              "<table border=\"1\" class=\"dataframe\">\n",
              "  <thead>\n",
              "    <tr style=\"text-align: right;\">\n",
              "      <th></th>\n",
              "      <th>Cluster</th>\n",
              "      <th>Menu</th>\n",
              "      <th>Restoran</th>\n",
              "    </tr>\n",
              "  </thead>\n",
              "  <tbody>\n",
              "    <tr>\n",
              "      <th>0</th>\n",
              "      <td>4</td>\n",
              "      <td>Burger Ayam (Colonel's Burger)</td>\n",
              "      <td>KFC</td>\n",
              "    </tr>\n",
              "    <tr>\n",
              "      <th>1</th>\n",
              "      <td>4</td>\n",
              "      <td>Cheezy Wedges</td>\n",
              "      <td>KFC</td>\n",
              "    </tr>\n",
              "    <tr>\n",
              "      <th>2</th>\n",
              "      <td>4</td>\n",
              "      <td>Chocolate Molten Cake</td>\n",
              "      <td>KFC</td>\n",
              "    </tr>\n",
              "    <tr>\n",
              "      <th>3</th>\n",
              "      <td>4</td>\n",
              "      <td>Cream Soup</td>\n",
              "      <td>KFC</td>\n",
              "    </tr>\n",
              "    <tr>\n",
              "      <th>4</th>\n",
              "      <td>4</td>\n",
              "      <td>Deluxe Burger</td>\n",
              "      <td>KFC</td>\n",
              "    </tr>\n",
              "    <tr>\n",
              "      <th>5</th>\n",
              "      <td>4</td>\n",
              "      <td>Fish Fillet</td>\n",
              "      <td>KFC</td>\n",
              "    </tr>\n",
              "    <tr>\n",
              "      <th>6</th>\n",
              "      <td>4</td>\n",
              "      <td>French Blackpepper Bento</td>\n",
              "      <td>KFC</td>\n",
              "    </tr>\n",
              "    <tr>\n",
              "      <th>7</th>\n",
              "      <td>4</td>\n",
              "      <td>French Fries (Regular)</td>\n",
              "      <td>KFC</td>\n",
              "    </tr>\n",
              "    <tr>\n",
              "      <th>8</th>\n",
              "      <td>4</td>\n",
              "      <td>Krushers</td>\n",
              "      <td>KFC</td>\n",
              "    </tr>\n",
              "    <tr>\n",
              "      <th>9</th>\n",
              "      <td>4</td>\n",
              "      <td>Sambal Korek</td>\n",
              "      <td>KFC</td>\n",
              "    </tr>\n",
              "    <tr>\n",
              "      <th>10</th>\n",
              "      <td>4</td>\n",
              "      <td>Apple Pie</td>\n",
              "      <td>Mcd</td>\n",
              "    </tr>\n",
              "    <tr>\n",
              "      <th>11</th>\n",
              "      <td>4</td>\n",
              "      <td>Beef Burger</td>\n",
              "      <td>Mcd</td>\n",
              "    </tr>\n",
              "    <tr>\n",
              "      <th>12</th>\n",
              "      <td>4</td>\n",
              "      <td>Cheeseburger</td>\n",
              "      <td>Mcd</td>\n",
              "    </tr>\n",
              "    <tr>\n",
              "      <th>13</th>\n",
              "      <td>4</td>\n",
              "      <td>Double Choco Pie</td>\n",
              "      <td>Mcd</td>\n",
              "    </tr>\n",
              "    <tr>\n",
              "      <th>14</th>\n",
              "      <td>4</td>\n",
              "      <td>Fillet-O-Fish</td>\n",
              "      <td>Mcd</td>\n",
              "    </tr>\n",
              "    <tr>\n",
              "      <th>15</th>\n",
              "      <td>4</td>\n",
              "      <td>French Fries (Large)</td>\n",
              "      <td>Mcd</td>\n",
              "    </tr>\n",
              "    <tr>\n",
              "      <th>16</th>\n",
              "      <td>4</td>\n",
              "      <td>French Fries (Medium)</td>\n",
              "      <td>Mcd</td>\n",
              "    </tr>\n",
              "    <tr>\n",
              "      <th>17</th>\n",
              "      <td>4</td>\n",
              "      <td>French Fries (Small)</td>\n",
              "      <td>Mcd</td>\n",
              "    </tr>\n",
              "    <tr>\n",
              "      <th>18</th>\n",
              "      <td>4</td>\n",
              "      <td>Hamburger</td>\n",
              "      <td>Mcd</td>\n",
              "    </tr>\n",
              "    <tr>\n",
              "      <th>19</th>\n",
              "      <td>4</td>\n",
              "      <td>Hash Brown</td>\n",
              "      <td>Mcd</td>\n",
              "    </tr>\n",
              "    <tr>\n",
              "      <th>20</th>\n",
              "      <td>4</td>\n",
              "      <td>McSpicy Chicken</td>\n",
              "      <td>Mcd</td>\n",
              "    </tr>\n",
              "    <tr>\n",
              "      <th>21</th>\n",
              "      <td>4</td>\n",
              "      <td>Potato Wedges</td>\n",
              "      <td>Mcd</td>\n",
              "    </tr>\n",
              "  </tbody>\n",
              "</table>\n",
              "</div>"
            ],
            "text/plain": [
              "    Cluster                            Menu Restoran\n",
              "0         4  Burger Ayam (Colonel's Burger)      KFC\n",
              "1         4                   Cheezy Wedges      KFC\n",
              "2         4           Chocolate Molten Cake      KFC\n",
              "3         4                      Cream Soup      KFC\n",
              "4         4                   Deluxe Burger      KFC\n",
              "5         4                     Fish Fillet      KFC\n",
              "6         4        French Blackpepper Bento      KFC\n",
              "7         4          French Fries (Regular)      KFC\n",
              "8         4                        Krushers      KFC\n",
              "9         4                    Sambal Korek      KFC\n",
              "10        4                       Apple Pie      Mcd\n",
              "11        4                     Beef Burger      Mcd\n",
              "12        4                    Cheeseburger      Mcd\n",
              "13        4                Double Choco Pie      Mcd\n",
              "14        4                   Fillet-O-Fish      Mcd\n",
              "15        4            French Fries (Large)      Mcd\n",
              "16        4           French Fries (Medium)      Mcd\n",
              "17        4            French Fries (Small)      Mcd\n",
              "18        4                       Hamburger      Mcd\n",
              "19        4                      Hash Brown      Mcd\n",
              "20        4                 McSpicy Chicken      Mcd\n",
              "21        4                   Potato Wedges      Mcd"
            ]
          },
          "metadata": {},
          "execution_count": 50
        }
      ]
    },
    {
      "cell_type": "markdown",
      "metadata": {
        "id": "Pz3zzxJhW12Y"
      },
      "source": [
        "## Multivariate Inference\n",
        "\n",
        "We want to test whether the mean of Fat and Calories contents between menu in McD is the same with KFC. We use T Square Hotelling's test to test the hypothesis.\n",
        "\n",
        "Hypothesis:\n",
        "* H0 : mean of Fat and Calories contents from McD menu - mean of Fat and Calories contents from KFC menu = 0\n",
        "\n",
        "* H1 : mean of Fat and Calories contents from McD menu - mean of Fat and Calories contents from KFC menu != 0"
      ]
    },
    {
      "cell_type": "markdown",
      "metadata": {
        "id": "PadMbE_9D8mA"
      },
      "source": [
        "### Multivariate Normality Test\n",
        "\n",
        "Hypothesis:\n",
        "* H0 : The data has multivariate normal distribution\n",
        "* H1 : The data doesn't have multivariate normal distribution"
      ]
    },
    {
      "cell_type": "code",
      "metadata": {
        "colab": {
          "base_uri": "https://localhost:8080/"
        },
        "id": "b4ZVVbs_EAHa",
        "outputId": "1f69aef4-8648-4213-8033-6bacb55415a5"
      },
      "source": [
        "# Combined data frame\n",
        "mcd = df_mcd[['Kalori','Lemak']]\n",
        "kfc = df_kfc[['Kalori','Lemak']]\n",
        "combined = df_combined[['Kalori', 'Lemak']]\n",
        "pg.multivariate_normality(combined)"
      ],
      "execution_count": null,
      "outputs": [
        {
          "output_type": "execute_result",
          "data": {
            "text/plain": [
              "HZResults(hz=1.218680361029706, pval=0.009434616133613962, normal=False)"
            ]
          },
          "metadata": {},
          "execution_count": 51
        }
      ]
    },
    {
      "cell_type": "markdown",
      "metadata": {
        "id": "4cuh_ESnHBRK"
      },
      "source": [
        "Since p-value < alpha = 0.05, reject H0. So, the data doesn't have multivariate normal distribution. We will try to normalize the data."
      ]
    },
    {
      "cell_type": "code",
      "metadata": {
        "colab": {
          "base_uri": "https://localhost:8080/"
        },
        "id": "etS-a8VWLc-x",
        "outputId": "bd394ad7-d6e5-45dc-d20f-f96e633b3d47"
      },
      "source": [
        "# Scaled using normalize\n",
        "scaled_combined = df_scaled[['Kalori','Lemak']]\n",
        "pg.multivariate_normality(scaled_combined)"
      ],
      "execution_count": null,
      "outputs": [
        {
          "output_type": "execute_result",
          "data": {
            "text/plain": [
              "HZResults(hz=5.592761394088475, pval=1.2154576193010632e-11, normal=False)"
            ]
          },
          "metadata": {},
          "execution_count": 52
        }
      ]
    },
    {
      "cell_type": "code",
      "metadata": {
        "colab": {
          "base_uri": "https://localhost:8080/"
        },
        "id": "qabYl0nXHA9H",
        "outputId": "aded9614-cc8b-4399-c347-6fcae66e4823"
      },
      "source": [
        "# Scaled using log\n",
        "log_combined = np.log1p(combined)\n",
        "pg.multivariate_normality(log_combined)"
      ],
      "execution_count": null,
      "outputs": [
        {
          "output_type": "execute_result",
          "data": {
            "text/plain": [
              "HZResults(hz=4.93434556356267, pval=1.294435082380596e-10, normal=False)"
            ]
          },
          "metadata": {},
          "execution_count": 53
        }
      ]
    },
    {
      "cell_type": "code",
      "metadata": {
        "colab": {
          "base_uri": "https://localhost:8080/"
        },
        "id": "iy9YaLibIMmJ",
        "outputId": "b7e61628-1e5c-436b-bea4-7ce862920e12"
      },
      "source": [
        "# Scaled using exponential\n",
        "exp_combined = combined**(1/1.2)\n",
        "pg.multivariate_normality(exp_combined)"
      ],
      "execution_count": null,
      "outputs": [
        {
          "output_type": "execute_result",
          "data": {
            "text/plain": [
              "HZResults(hz=1.4038165637833873, pval=0.002980265822783597, normal=False)"
            ]
          },
          "metadata": {},
          "execution_count": 54
        }
      ]
    },
    {
      "cell_type": "code",
      "metadata": {
        "colab": {
          "base_uri": "https://localhost:8080/"
        },
        "id": "0ahDeHZUIdXR",
        "outputId": "efe46a3a-178f-4f9d-e488-39d6776734b6"
      },
      "source": [
        "# Scaled using reciprocal\n",
        "reciprocal_combined = 1/combined\n",
        "pg.multivariate_normality(reciprocal_combined)"
      ],
      "execution_count": null,
      "outputs": [
        {
          "output_type": "stream",
          "name": "stderr",
          "text": [
            "/usr/local/lib/python3.7/dist-packages/numpy/lib/function_base.py:2474: RuntimeWarning: invalid value encountered in subtract\n",
            "  X -= avg[:, None]\n",
            "/usr/local/lib/python3.7/dist-packages/pingouin/multivariate.py:76: RuntimeWarning: invalid value encountered in subtract\n",
            "  difT = X - X.mean(0)\n"
          ]
        },
        {
          "output_type": "execute_result",
          "data": {
            "text/plain": [
              "HZResults(hz=356, pval=1.527070983945526e-76, normal=False)"
            ]
          },
          "metadata": {},
          "execution_count": 55
        }
      ]
    },
    {
      "cell_type": "code",
      "metadata": {
        "colab": {
          "base_uri": "https://localhost:8080/"
        },
        "id": "qeGguicXJAj9",
        "outputId": "73cb4c39-40d3-4836-cbec-ab68c775575c"
      },
      "source": [
        "# Scaled using square root\n",
        "sqrt_combined=np.sqrt(combined)\n",
        "pg.multivariate_normality(sqrt_combined)"
      ],
      "execution_count": null,
      "outputs": [
        {
          "output_type": "execute_result",
          "data": {
            "text/plain": [
              "HZResults(hz=2.5050967536307205, pval=5.526888534457944e-06, normal=False)"
            ]
          },
          "metadata": {},
          "execution_count": 56
        }
      ]
    },
    {
      "cell_type": "code",
      "metadata": {
        "colab": {
          "base_uri": "https://localhost:8080/"
        },
        "id": "oQYdRreqJ5wc",
        "outputId": "508b4e57-1e34-47f0-f5fe-a7617141880d"
      },
      "source": [
        "# Scaled using min max scaler\n",
        "scaler = preprocessing.MinMaxScaler()\n",
        "minmax_combined = pd.DataFrame(scaler.fit_transform(combined), columns = [\"Kalori\", \"Lemak\"])\n",
        "pg.multivariate_normality(minmax_combined)"
      ],
      "execution_count": null,
      "outputs": [
        {
          "output_type": "execute_result",
          "data": {
            "text/plain": [
              "HZResults(hz=1.2186803610297108, pval=0.009434616133613662, normal=False)"
            ]
          },
          "metadata": {},
          "execution_count": 57
        }
      ]
    },
    {
      "cell_type": "code",
      "metadata": {
        "id": "80dYtNIuMhYl"
      },
      "source": [
        "# Write data to be read in R\n",
        "combined.to_csv('combined.csv')\n",
        "scaled_combined.to_csv('scaled_combined.csv')\n",
        "log_combined.to_csv('log_combined.csv')\n",
        "exp_combined.to_csv('exp_combined.csv')\n",
        "reciprocal_combined.to_csv('reciprocal_combined.csv')\n",
        "sqrt_combined.to_csv('sqrt_combined.csv')\n",
        "minmax_combined.to_csv('minmax_combined.csv')"
      ],
      "execution_count": null,
      "outputs": []
    },
    {
      "cell_type": "code",
      "metadata": {
        "colab": {
          "base_uri": "https://localhost:8080/"
        },
        "id": "e1DIlc01LNb4",
        "outputId": "d9154459-ab0e-4413-e289-2a4508119e91"
      },
      "source": [
        "# Mardia test package installation\n",
        "%%R\n",
        "install.packages('QuantPsyc')\n",
        "library(QuantPsyc)"
      ],
      "execution_count": null,
      "outputs": [
        {
          "output_type": "stream",
          "name": "stderr",
          "text": [
            "R[write to console]: Installing package into ‘/usr/local/lib/R/site-library’\n",
            "(as ‘lib’ is unspecified)\n",
            "\n",
            "R[write to console]: trying URL 'https://cran.rstudio.com/src/contrib/QuantPsyc_1.5.tar.gz'\n",
            "\n",
            "R[write to console]: Content type 'application/x-gzip'\n",
            "R[write to console]:  length 48735 bytes (47 KB)\n",
            "\n",
            "R[write to console]: =\n",
            "R[write to console]: =\n",
            "R[write to console]: =\n",
            "R[write to console]: =\n",
            "R[write to console]: =\n",
            "R[write to console]: =\n",
            "R[write to console]: =\n",
            "R[write to console]: =\n",
            "R[write to console]: =\n",
            "R[write to console]: =\n",
            "R[write to console]: =\n",
            "R[write to console]: =\n",
            "R[write to console]: =\n",
            "R[write to console]: =\n",
            "R[write to console]: =\n",
            "R[write to console]: =\n",
            "R[write to console]: =\n",
            "R[write to console]: =\n",
            "R[write to console]: =\n",
            "R[write to console]: =\n",
            "R[write to console]: =\n",
            "R[write to console]: =\n",
            "R[write to console]: =\n",
            "R[write to console]: =\n",
            "R[write to console]: =\n",
            "R[write to console]: =\n",
            "R[write to console]: =\n",
            "R[write to console]: =\n",
            "R[write to console]: =\n",
            "R[write to console]: =\n",
            "R[write to console]: =\n",
            "R[write to console]: =\n",
            "R[write to console]: =\n",
            "R[write to console]: =\n",
            "R[write to console]: =\n",
            "R[write to console]: =\n",
            "R[write to console]: =\n",
            "R[write to console]: =\n",
            "R[write to console]: =\n",
            "R[write to console]: =\n",
            "R[write to console]: =\n",
            "R[write to console]: =\n",
            "R[write to console]: =\n",
            "R[write to console]: =\n",
            "R[write to console]: =\n",
            "R[write to console]: =\n",
            "R[write to console]: =\n",
            "R[write to console]: =\n",
            "R[write to console]: =\n",
            "R[write to console]: =\n",
            "R[write to console]: \n",
            "\n",
            "R[write to console]: downloaded 47 KB\n",
            "\n",
            "\n",
            "R[write to console]: \n",
            "\n",
            "R[write to console]: \n",
            "R[write to console]: The downloaded source packages are in\n",
            "\t‘/tmp/Rtmp0jAsQR/downloaded_packages’\n",
            "R[write to console]: \n",
            "R[write to console]: \n",
            "\n",
            "R[write to console]: Loading required package: boot\n",
            "\n",
            "R[write to console]: Loading required package: MASS\n",
            "\n",
            "R[write to console]: \n",
            "Attaching package: ‘QuantPsyc’\n",
            "\n",
            "\n",
            "R[write to console]: The following object is masked from ‘package:base’:\n",
            "\n",
            "    norm\n",
            "\n",
            "\n"
          ]
        }
      ]
    },
    {
      "cell_type": "code",
      "metadata": {
        "id": "DB6nl_sgMtD6",
        "colab": {
          "base_uri": "https://localhost:8080/"
        },
        "outputId": "5c59e657-a97b-4222-d013-396df0164740"
      },
      "source": [
        "# Mardia test for original data\n",
        "%%R\n",
        "data <- read.csv('combined.csv')\n",
        "mult.norm(data)$mult.test"
      ],
      "execution_count": null,
      "outputs": [
        {
          "output_type": "stream",
          "name": "stdout",
          "text": [
            "          Beta-hat      kappa       p-val\n",
            "Skewness  1.717852 25.4814749 0.004503864\n",
            "Kurtosis 14.550766 -0.3868804 0.698844780\n"
          ]
        }
      ]
    },
    {
      "cell_type": "code",
      "metadata": {
        "id": "eNqeTFkmOaeI",
        "colab": {
          "base_uri": "https://localhost:8080/"
        },
        "outputId": "27905024-1e3b-4314-d859-02f3bf7e41c3"
      },
      "source": [
        "# Mardia test for scaled data\n",
        "%%R\n",
        "scaled_data <- read.csv('scaled_combined.csv')\n",
        "mult.norm(scaled_data)$mult.test"
      ],
      "execution_count": null,
      "outputs": [
        {
          "output_type": "stream",
          "name": "stdout",
          "text": [
            "          Beta-hat     kappa p-val\n",
            "Skewness  9.981906 148.06495     0\n",
            "Kurtosis 31.174618  13.92959     0\n"
          ]
        }
      ]
    },
    {
      "cell_type": "code",
      "metadata": {
        "id": "Ql_IxVZlOfUx",
        "colab": {
          "base_uri": "https://localhost:8080/"
        },
        "outputId": "9e190fa7-da51-4e39-d895-04028cded9a8"
      },
      "source": [
        "# Mardia test for log data\n",
        "%%R\n",
        "log_data <- read.csv('log_combined.csv')\n",
        "mult.norm(log_data)$mult.test"
      ],
      "execution_count": null,
      "outputs": [
        {
          "output_type": "stream",
          "name": "stdout",
          "text": [
            "          Beta-hat     kappa        p-val\n",
            "Skewness  6.087538 90.298475 4.662937e-15\n",
            "Kurtosis 18.267446  2.813927 4.894039e-03\n"
          ]
        }
      ]
    },
    {
      "cell_type": "code",
      "metadata": {
        "id": "7eSkdLxyNjty",
        "colab": {
          "base_uri": "https://localhost:8080/"
        },
        "outputId": "90fbd59e-577c-492c-9e58-6201b44739da"
      },
      "source": [
        "# Mardia test for exp_combined data\n",
        "%%R\n",
        "exp_data <- read.csv('exp_combined.csv')\n",
        "mult.norm(exp_data)$mult.test"
      ],
      "execution_count": null,
      "outputs": [
        {
          "output_type": "stream",
          "name": "stdout",
          "text": [
            "          Beta-hat      kappa      p-val\n",
            "Skewness  1.527793 22.6622681 0.01206424\n",
            "Kurtosis 14.117255 -0.7602202 0.44712297\n"
          ]
        }
      ]
    },
    {
      "cell_type": "code",
      "metadata": {
        "id": "THtB87eLOrXd",
        "colab": {
          "base_uri": "https://localhost:8080/"
        },
        "outputId": "7498d7fb-4633-419a-8809-4ce5358af442"
      },
      "source": [
        "# Mardia test for reciprocal data\n",
        "%%R\n",
        "reciprocal_data <- read.csv('reciprocal_combined.csv')\n",
        "mult.norm(reciprocal_data)$mult.test"
      ],
      "execution_count": null,
      "outputs": [
        {
          "output_type": "stream",
          "name": "stdout",
          "text": [
            "         Beta-hat kappa p-val\n",
            "Skewness      NaN   NaN   NaN\n",
            "Kurtosis      NaN   NaN   NaN\n"
          ]
        }
      ]
    },
    {
      "cell_type": "code",
      "metadata": {
        "id": "M2TM68IiPAYs",
        "colab": {
          "base_uri": "https://localhost:8080/"
        },
        "outputId": "d394e500-774b-4ba8-88e8-d7beb43d24a8"
      },
      "source": [
        "# Mardia test for square root data\n",
        "%%R\n",
        "sqrt_data <- read.csv('sqrt_combined.csv')\n",
        "mult.norm(sqrt_data)$mult.test"
      ],
      "execution_count": null,
      "outputs": [
        {
          "output_type": "stream",
          "name": "stdout",
          "text": [
            "          Beta-hat      kappa        p-val\n",
            "Skewness  3.026994 44.9004042 2.266566e-06\n",
            "Kurtosis 15.524385  0.4516006 6.515568e-01\n"
          ]
        }
      ]
    },
    {
      "cell_type": "code",
      "metadata": {
        "id": "dd-DEnJFNxrO",
        "colab": {
          "base_uri": "https://localhost:8080/"
        },
        "outputId": "76b429f4-e3bb-458b-c00b-8b52c562dcb2"
      },
      "source": [
        "# Mardia test for minmax_combined data\n",
        "%%R\n",
        "minmax_data <- read.csv('minmax_combined.csv')\n",
        "mult.norm(exp_data)$mult.test"
      ],
      "execution_count": null,
      "outputs": [
        {
          "output_type": "stream",
          "name": "stdout",
          "text": [
            "          Beta-hat      kappa      p-val\n",
            "Skewness  1.527793 22.6622681 0.01206424\n",
            "Kurtosis 14.117255 -0.7602202 0.44712297\n"
          ]
        }
      ]
    },
    {
      "cell_type": "markdown",
      "metadata": {
        "id": "BF4IVy96P5Qa"
      },
      "source": [
        "Using exponential transformation or min max scaler, the mardia test result in greater than 0.01 p-values. Using assumption of alpha = 0.01, we do not reject H0, so the data has multivariate normal distribution. So we will use the result from min max scaler for further analysis."
      ]
    },
    {
      "cell_type": "markdown",
      "metadata": {
        "id": "TDlYM5PyEZEt"
      },
      "source": [
        "### Same Variance Test using `levene` Package\n",
        "\n",
        "Hypothesis:\n",
        "* H0 :  all input samples are from populations with equal variances\n",
        "* H1 :  all input samples are from populations with unequal variances"
      ]
    },
    {
      "cell_type": "code",
      "metadata": {
        "colab": {
          "base_uri": "https://localhost:8080/"
        },
        "id": "V12IAFHcQi2Z",
        "outputId": "797ed014-c800-4773-fd50-dda4ee83c815"
      },
      "source": [
        "# Calories\n",
        "stat, pvalue = levene(df_mcd['Kalori'],df_kfc['Kalori'])\n",
        "pvalue"
      ],
      "execution_count": null,
      "outputs": [
        {
          "output_type": "execute_result",
          "data": {
            "text/plain": [
              "0.22715190520720202"
            ]
          },
          "metadata": {},
          "execution_count": 67
        }
      ]
    },
    {
      "cell_type": "code",
      "metadata": {
        "id": "JE9K-iwuDg-b",
        "colab": {
          "base_uri": "https://localhost:8080/"
        },
        "outputId": "94251a17-8eca-41f7-d814-967215935208"
      },
      "source": [
        "# Fat\n",
        "stat, pvalue = levene(df_mcd['Lemak'],df_kfc['Lemak'])\n",
        "pvalue"
      ],
      "execution_count": null,
      "outputs": [
        {
          "output_type": "execute_result",
          "data": {
            "text/plain": [
              "0.6691412700499966"
            ]
          },
          "metadata": {},
          "execution_count": 68
        }
      ]
    },
    {
      "cell_type": "markdown",
      "metadata": {
        "id": "DeLgl-k0C8w2"
      },
      "source": [
        "P-values of the levene tests are greater than alpha = 0.05, do not reject H0. So, based on levene test, the fat and calories content of menu from both restaurants are from population with equal variances."
      ]
    },
    {
      "cell_type": "markdown",
      "metadata": {
        "id": "4F-CpEZJD0Vu"
      },
      "source": [
        "### T Square's Hotelling Test - Equal Variance"
      ]
    },
    {
      "cell_type": "code",
      "metadata": {
        "colab": {
          "base_uri": "https://localhost:8080/"
        },
        "id": "8LuYIrwSh-jo",
        "outputId": "71c04894-bd1e-456c-d0cd-6320e6060c4f"
      },
      "source": [
        "# Take min max scaler result\n",
        "mcd.shape"
      ],
      "execution_count": null,
      "outputs": [
        {
          "output_type": "execute_result",
          "data": {
            "text/plain": [
              "(50, 2)"
            ]
          },
          "metadata": {},
          "execution_count": 69
        }
      ]
    },
    {
      "cell_type": "code",
      "metadata": {
        "colab": {
          "base_uri": "https://localhost:8080/"
        },
        "id": "feaDyqmsinit",
        "outputId": "e28fde1f-2306-4a08-9f36-52d23a620082"
      },
      "source": [
        "kfc.shape"
      ],
      "execution_count": null,
      "outputs": [
        {
          "output_type": "execute_result",
          "data": {
            "text/plain": [
              "(39, 2)"
            ]
          },
          "metadata": {},
          "execution_count": 70
        }
      ]
    },
    {
      "cell_type": "code",
      "metadata": {
        "id": "U6Us2ES2ipx1"
      },
      "source": [
        "mcd_scaled = minmax_combined.iloc[:50,]\n",
        "kfc_scaled = minmax_combined.iloc[50:90,]"
      ],
      "execution_count": null,
      "outputs": []
    },
    {
      "cell_type": "code",
      "metadata": {
        "id": "lr_Fhf4MW2dJ"
      },
      "source": [
        "# Define the function to do T^2 hotelling\n",
        "def t2hotelling(X, Y, alpha = 0.05):\n",
        "  # Number of sample of first data (n1) & number of variables (p)\n",
        "  n1, p = X.shape\n",
        "  \n",
        "  # Number of sample of second data (n2)\n",
        "  n2, _ = Y.shape\n",
        "  \n",
        "  # Mean of first data (xbar1) - mean of second data (xbar2)\n",
        "  delta = np.mean(X) - np.mean(Y)\n",
        "\n",
        "  # Covariance matrix of first data (S1)\n",
        "  S1 = np.cov(X, rowvar=False)\n",
        "\n",
        "  # Covariance matrix of second data (S2)\n",
        "  S2 = np.cov(Y, rowvar=False)\n",
        "\n",
        "  # Pooled Covariance Matrix\n",
        "  S_pooled = ((n1-1)*S1 + (n2-1)*S2)/(n1+n2-2)\n",
        "\n",
        "  # T^2 Hotelling\n",
        "  t_squared = np.matmul(np.matmul(delta.transpose(), np.linalg.inv((1/n1 + 1/n2) * S_pooled)), delta)\n",
        "  \n",
        "  # C^2\n",
        "  F_table = f.ppf(1-alpha, p, n1+n2-p-1)\n",
        "  c_squared = (n1+n2-2)*p/(n1+n2-p-1) * F_table\n",
        "  \n",
        "  # Conclusion\n",
        "  ## Print T squared & C squared\n",
        "  print(f\"T Squared = {round(t_squared,5)} \\nC Squared = {round(c_squared,5)}\")\n",
        "  ## If T squared > C squared reject H0\n",
        "  if t_squared > c_squared:\n",
        "    print(\"T Squared > C Squared, reject H0. So, there is a significant difference between the mean of the two data.\")\n",
        "  else:\n",
        "    print(\"T Squared < C Squared, do not reject H0. So, there is no significant difference between the mean of the two data.\")"
      ],
      "execution_count": null,
      "outputs": []
    },
    {
      "cell_type": "code",
      "metadata": {
        "colab": {
          "base_uri": "https://localhost:8080/"
        },
        "id": "NxdQx4xA6cJJ",
        "outputId": "8c18bedd-f883-433f-97bf-977e98054103"
      },
      "source": [
        "# Apply the function\n",
        "t2hotelling(mcd_scaled, kfc_scaled)"
      ],
      "execution_count": null,
      "outputs": [
        {
          "output_type": "stream",
          "name": "stdout",
          "text": [
            "T Squared = 2.93321 \n",
            "C Squared = 6.27726\n",
            "T Squared < C Squared, do not reject H0. So, there is no significant difference between the mean of the two data.\n"
          ]
        }
      ]
    },
    {
      "cell_type": "markdown",
      "metadata": {
        "id": "v2gVow5x9M_a"
      },
      "source": [
        "Based on the conclusion, there is no significant difference between mean of Fat and Calories contents of McD menu and KFC menu.\n"
      ]
    },
    {
      "cell_type": "markdown",
      "metadata": {
        "id": "Aq97cHHY9iNf"
      },
      "source": [
        "## Profile Analysis\n",
        "\n",
        "To explore more about the difference between between mean of Fat and Calories contents of McD menu and KFC menu, we will try to do profile analysis. This method breakdown the questions from previous hypothesis into 3 questions:\n",
        "* Are the profiles parallel? \n",
        "* Are the profiles the same (coincident)?\n",
        "* Are the profiles flat?\n",
        "\n",
        "We will do the test step by step from question 1 to question 3. If the answer of one of the questions is \"no\", then the test is stopped."
      ]
    },
    {
      "cell_type": "code",
      "metadata": {
        "id": "UgNR10gRB7eg",
        "colab": {
          "base_uri": "https://localhost:8080/"
        },
        "outputId": "ad03b337-233d-4cf9-f2cb-3c0260723461"
      },
      "source": [
        "# Profile Plots\n",
        "plt.figure(figsize=(10,7))\n",
        "plt.title('Profile Plots')\n",
        "plt.plot(np.mean(mcd), label = 'McDonalds')\n",
        "plt.plot(np.mean(kfc), label = 'KFC')\n",
        "plt.ylabel('Mean Values')\n",
        "plt.legend();"
      ],
      "execution_count": null,
      "outputs": [
        {
          "output_type": "display_data",
          "data": {
            "image/png": "[encoded data removed]",
            "text/plain": [
              "<Figure size 720x504 with 1 Axes>"
            ]
          },
          "metadata": {
            "needs_background": "light"
          }
        }
      ]
    },
    {
      "cell_type": "code",
      "metadata": {
        "colab": {
          "base_uri": "https://localhost:8080/"
        },
        "id": "xSaNo4Dqj74U",
        "outputId": "1e6a618d-ae3c-4e06-d3c9-e8bde09cc67e"
      },
      "source": [
        "# Profile Plots Scaled Data\n",
        "plt.figure(figsize=(10,7))\n",
        "plt.title('Profile Plots Scaled Data')\n",
        "plt.plot(np.mean(mcd_scaled), label = 'McDonalds')\n",
        "plt.plot(np.mean(kfc_scaled), label = 'KFC')\n",
        "plt.ylabel('Mean Values')\n",
        "plt.legend();"
      ],
      "execution_count": null,
      "outputs": [
        {
          "output_type": "display_data",
          "data": {
            "image/png": "[encoded data removed]",
            "text/plain": [
              "<Figure size 720x504 with 1 Axes>"
            ]
          },
          "metadata": {
            "needs_background": "light"
          }
        }
      ]
    },
    {
      "cell_type": "markdown",
      "metadata": {
        "id": "OqnMxn68-sDo"
      },
      "source": [
        "### Profile Test\n",
        "**Question 1 : Are the profiles parallel?**\n",
        "\n",
        "Hypothesis :\n",
        "* H0 : The mean of `Kalori` and `Lemak` of McD menu are parallel with the mean of `Kalori` and `Lemak` of KFC menu.\n",
        "* H1 : The mean of `Kalori` and `Lemak` of McD menu are not parallel with the mean of `Kalori` and `Lemak` of KFC menu.\n",
        "\n",
        "**Question 2 : Are the profiles the same (coincident)?**\n",
        "\n",
        "Hypothesis :\n",
        "* H0 : The mean of `Kalori` and `Lemak` of McD menu are parallel and coincident with the mean of `Kalori` and `Lemak` of KFC menu.\n",
        "* H1 : The mean of `Kalori` and `Lemak` of McD menu are parallel but not coincident with the mean of `Kalori` and `Lemak` of KFC menu.\n",
        "\n",
        "\n",
        "**Question 3 : Are the profiles flat?**\n",
        "\n",
        "Hypothesis :\n",
        "* H0 : The mean of `Kalori` and `Lemak` of McD menu and KFC menu are all the same.\n",
        "* H1 : The mean of `Kalori` and `Lemak` of McD menu and KFC menu are not completely same.\n",
        "\n"
      ]
    },
    {
      "cell_type": "code",
      "metadata": {
        "id": "yyKHiSweDm-X"
      },
      "source": [
        "def profile_analysis_test(contrast_matrix, X, Y, alpha = 0.05):\n",
        "  # Number of sample of first data (n1) & number of variables (p)\n",
        "  n1, p = X.shape\n",
        "\n",
        "  # Number of sample of second data (n2)\n",
        "  n2, _ = Y.shape\n",
        "\n",
        "  # Mean of first data (xbar1) - mean of second data (xbar2)\n",
        "  delta = np.mean(X) - np.mean(Y)\n",
        "\n",
        "  # Covariance matrix of first data (S1)\n",
        "  S1 = np.cov(X, rowvar=False)\n",
        "\n",
        "  # Covariance matrix of second data (S2)\n",
        "  S2 = np.cov(Y, rowvar=False)\n",
        "\n",
        "  # Pooled Covariance Matrix\n",
        "  S_pooled = ((n1-1)*S1 + (n2-1)*S2)/(n1+n2-2)\n",
        "\n",
        "  # T^2 Hotelling\n",
        "  Spooled_inverse = np.linalg.inv((1/n1 + 1/n2) * np.matmul(np.matmul(contrast_matrix, S_pooled), contrast_matrix.transpose()))\n",
        "  t_squared = np.matmul(np.matmul(np.matmul(delta.transpose(), contrast_matrix.transpose()), Spooled_inverse), np.matmul(contrast_matrix,delta))\n",
        "\n",
        "  # C^2\n",
        "  F_table = f.ppf(1-alpha, p-1, n1+n2-p)\n",
        "  c_squared = (n1+n2-2)*(p-1)/(n1+n2-p) * F_table\n",
        "\n",
        "  # Conclusion\n",
        "  ## Print T squared & C squared\n",
        "  print(f\"Parallel Test \\nT Squared = {round(t_squared,5)} \\nC Squared = {round(c_squared,5)}\")\n",
        "  ## If T squared > C squared reject H0\n",
        "  if t_squared > c_squared:\n",
        "    return print(\"T Squared > C Squared, reject H0. So, the profiles are not parallel, stop the test here.\")\n",
        "  else:\n",
        "    print(\"T Squared < C Squared, do not reject H0. So, the profiles are parallel, continue to the next test.\")\n",
        "    \n",
        "    # Coincident Test\n",
        "    ## t test\n",
        "    one_matrix = np.array([[1,1]]) \n",
        "    Spooled2 = (1/n1 + 1/n2) * np.matmul(np.matmul(one_matrix, S_pooled), one_matrix.transpose())\n",
        "    t_test = np.matmul(one_matrix, delta)/(Spooled2**0.5) \n",
        "    t_table = t.ppf(1-alpha/2, n1+n2-2)\n",
        "\n",
        "    ## Conclusion\n",
        "    ### Print t test & t table\n",
        "    print(f\"\\n\\nCoincident Test \\nt test = {round(t_test[0][0],5)} \\nt table = {round(t_table,5)}\")\n",
        "    ### If t test > t table reject H0\n",
        "    if t_test > t_table:\n",
        "      return print(\"T test > t table, reject H0. So, the profiles are parallel but not coincident, stop the test here.\")\n",
        "    else:\n",
        "      print(\"T test < t table, do not reject H0. So, the profiles are parallel and coincident, continue to the next test.\")\n",
        "\n",
        "      # Flat Test\n",
        "      ## XY bar\n",
        "      xy_bar = (n1*np.mean(X) + n2*np.mean(Y))/(n1 + n2)\n",
        "      ## X-xybar\n",
        "      delta_x = X-xy_bar\n",
        "      ## Calculate total of (X-xy_bar) * transpose of (X-xy_bar)\n",
        "      sum_x = 0\n",
        "      for i in range(delta_x.shape[0]):\n",
        "        result_x = np.matmul(delta_x.iloc[i,:],delta_x.iloc[i,:].transpose())\n",
        "        sum_x += result_x\n",
        "      ## Calculate total of (Y-xy_bar) * transpose of (Y-xy_bar)\n",
        "      delta_y = Y-xy_bar\n",
        "      sum_y = 0\n",
        "      for i in range(delta_y.shape[0]):\n",
        "        result_y = np.matmul(delta_y.iloc[i,:],delta_y.iloc[i,:].transpose())\n",
        "        sum_y += result_y\n",
        "      ## Calculate total sample covariance matrix (S)\n",
        "      S = (1/(n1+n2-1))*(sum_x + sum_y)\n",
        "      ## Statistic test\n",
        "      S_inverse = np.linalg.inv(np.matmul(contrast_matrix*S, contrast_matrix.transpose()))\n",
        "      statistic_test = (n1+n2)*np.matmul(np.matmul(np.matmul(np.matmul(xy_bar.transpose(),contrast_matrix.transpose()),S_inverse),contrast_matrix),xy_bar)\n",
        "      ## F table\n",
        "      F_table2 = (n1+n2-1)*(p-1)/(n1+n2-p+1) * f.ppf(1-alpha, p-1, n1+n2-p+1)\n",
        "      ## Conclusion\n",
        "      ### Print statistic test & F table\n",
        "      print(f\"\\n\\nFlat Test \\nStatistic test = {round(statistic_test,5)} \\nF table = {round(F_table2,5)}\")\n",
        "      ### If statistic test > F table reject H0\n",
        "      if statistic_test > F_table2:\n",
        "        return print(\"Statistic test > F table, reject H0. So, the profiles are parallel and coincident but not flat.\")\n",
        "      else:\n",
        "        return print(\"Statistic test < F table, do not reject H0. So, the profiles are parallel, coincident, and flat.\")\n"
      ],
      "execution_count": null,
      "outputs": []
    },
    {
      "cell_type": "code",
      "metadata": {
        "id": "N6zN_6juGjGd",
        "colab": {
          "base_uri": "https://localhost:8080/"
        },
        "outputId": "e657605e-6d76-42c0-82d9-9370b699b515"
      },
      "source": [
        "# Define contrast matrix\n",
        "contrast_matrix = np.array([[-1,1]])\n",
        "\n",
        "# Apply the function\n",
        "profile_analysis_test(contrast_matrix, mcd_scaled, kfc_scaled)"
      ],
      "execution_count": null,
      "outputs": [
        {
          "output_type": "stream",
          "name": "stdout",
          "text": [
            "Parallel Test \n",
            "T Squared = 1.7252 \n",
            "C Squared = 3.95059\n",
            "T Squared < C Squared, do not reject H0. So, the profiles are parallel, continue to the next test.\n",
            "\n",
            "\n",
            "Coincident Test \n",
            "t test = 1.11485 \n",
            "t table = 1.98761\n",
            "T test < t table, do not reject H0. So, the profiles are parallel and coincident, continue to the next test.\n",
            "\n",
            "\n",
            "Flat Test \n",
            "Statistic test = 0.47826 \n",
            "F table = 3.94932\n",
            "Statistic test < F table, do not reject H0. So, the profiles are parallel, coincident, and flat.\n"
          ]
        }
      ]
    }
  ]
}